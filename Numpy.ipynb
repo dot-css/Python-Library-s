{
  "nbformat": 4,
  "nbformat_minor": 0,
  "metadata": {
    "colab": {
      "provenance": [],
      "collapsed_sections": [
        "awQj3ZDHbR4w",
        "y0wl-LgBdcev",
        "__opHDtWeTcR",
        "utF-CFlNe7i0",
        "VAplXtKVfbNZ",
        "YNU1ljaUf5T3",
        "P5u2ZO17gaqP",
        "WtCmeEdUgc-Z",
        "kLkJ1aP8gnZp",
        "fVSveZGrgnTB",
        "s8NgdGVpg0E_"
      ],
      "toc_visible": true
    },
    "kernelspec": {
      "name": "python3",
      "display_name": "Python 3"
    },
    "language_info": {
      "name": "python"
    }
  },
  "cells": [
    {
      "cell_type": "markdown",
      "source": [
        "# **1. Array Creation**"
      ],
      "metadata": {
        "id": "awQj3ZDHbR4w"
      }
    },
    {
      "cell_type": "code",
      "execution_count": 74,
      "metadata": {
        "id": "t95yUhqcbB5L"
      },
      "outputs": [],
      "source": [
        "import numpy as np"
      ]
    },
    {
      "cell_type": "code",
      "source": [
        "# Create an array\n",
        "arr = np.array([1, 2, 3, 4, 5])\n",
        "arr"
      ],
      "metadata": {
        "colab": {
          "base_uri": "https://localhost:8080/"
        },
        "id": "IpCCFRX9bk6z",
        "outputId": "46236cce-0944-476b-84f7-49e110b113b0"
      },
      "execution_count": 75,
      "outputs": [
        {
          "output_type": "execute_result",
          "data": {
            "text/plain": [
              "array([1, 2, 3, 4, 5])"
            ]
          },
          "metadata": {},
          "execution_count": 75
        }
      ]
    },
    {
      "cell_type": "code",
      "source": [
        "# Create an array filled with zeros\n",
        "zeros_arr = np.zeros((3, 3))\n",
        "zeros_arr"
      ],
      "metadata": {
        "colab": {
          "base_uri": "https://localhost:8080/"
        },
        "id": "8vs1PkwZbm07",
        "outputId": "77edba5f-63da-4a1d-ec78-e6e9121c983a"
      },
      "execution_count": 76,
      "outputs": [
        {
          "output_type": "execute_result",
          "data": {
            "text/plain": [
              "array([[0., 0., 0.],\n",
              "       [0., 0., 0.],\n",
              "       [0., 0., 0.]])"
            ]
          },
          "metadata": {},
          "execution_count": 76
        }
      ]
    },
    {
      "cell_type": "code",
      "source": [
        "# Create an array filled with ones\n",
        "ones_arr = np.ones((2, 4))\n",
        "ones_arr"
      ],
      "metadata": {
        "colab": {
          "base_uri": "https://localhost:8080/"
        },
        "id": "ozuNUVmib8N3",
        "outputId": "40e41539-fad1-4b30-d4d3-0c61b0c872a9"
      },
      "execution_count": 77,
      "outputs": [
        {
          "output_type": "execute_result",
          "data": {
            "text/plain": [
              "array([[1., 1., 1., 1.],\n",
              "       [1., 1., 1., 1.]])"
            ]
          },
          "metadata": {},
          "execution_count": 77
        }
      ]
    },
    {
      "cell_type": "code",
      "source": [
        "# Create an array filled with a specific value\n",
        "full_arr = np.full((2, 3), 7)\n",
        "full_arr"
      ],
      "metadata": {
        "colab": {
          "base_uri": "https://localhost:8080/"
        },
        "id": "14FRnz2scBBP",
        "outputId": "bfea3108-8b0e-4e68-fd78-b47bfa2a16d1"
      },
      "execution_count": 78,
      "outputs": [
        {
          "output_type": "execute_result",
          "data": {
            "text/plain": [
              "array([[7, 7, 7],\n",
              "       [7, 7, 7]])"
            ]
          },
          "metadata": {},
          "execution_count": 78
        }
      ]
    },
    {
      "cell_type": "code",
      "source": [
        "# Create an identity matrix\n",
        "identity_matrix = np.eye(4)\n",
        "identity_matrix"
      ],
      "metadata": {
        "colab": {
          "base_uri": "https://localhost:8080/"
        },
        "id": "KbuYAye6cHi4",
        "outputId": "406260eb-c605-44b6-a519-616cca142cce"
      },
      "execution_count": 79,
      "outputs": [
        {
          "output_type": "execute_result",
          "data": {
            "text/plain": [
              "array([[1., 0., 0., 0.],\n",
              "       [0., 1., 0., 0.],\n",
              "       [0., 0., 1., 0.],\n",
              "       [0., 0., 0., 1.]])"
            ]
          },
          "metadata": {},
          "execution_count": 79
        }
      ]
    },
    {
      "cell_type": "code",
      "source": [
        "# Create an array with evenly spaced values within a given range\n",
        "range_arr = np.arange(0, 10, 2)\n",
        "range_arr"
      ],
      "metadata": {
        "colab": {
          "base_uri": "https://localhost:8080/"
        },
        "id": "T61Opr56cP4A",
        "outputId": "1c7a2f5a-c07f-4065-bb03-9b175a6a75e5"
      },
      "execution_count": 80,
      "outputs": [
        {
          "output_type": "execute_result",
          "data": {
            "text/plain": [
              "array([0, 2, 4, 6, 8])"
            ]
          },
          "metadata": {},
          "execution_count": 80
        }
      ]
    },
    {
      "cell_type": "code",
      "source": [
        "# Create an array with evenly spaced numbers over a specified interval\n",
        "linspace_arr = np.linspace(0, 1, 5)\n",
        "linspace_arr"
      ],
      "metadata": {
        "colab": {
          "base_uri": "https://localhost:8080/"
        },
        "id": "FBCMP5PecTxn",
        "outputId": "b8f8e007-a7c7-40a9-d258-a1d027af3a1b"
      },
      "execution_count": 81,
      "outputs": [
        {
          "output_type": "execute_result",
          "data": {
            "text/plain": [
              "array([0.  , 0.25, 0.5 , 0.75, 1.  ])"
            ]
          },
          "metadata": {},
          "execution_count": 81
        }
      ]
    },
    {
      "cell_type": "code",
      "source": [
        "# Create an array with values that are logarithmically spaced\n",
        "logspace_arr = np.logspace(0, 3, 4)\n",
        "logspace_arr"
      ],
      "metadata": {
        "colab": {
          "base_uri": "https://localhost:8080/"
        },
        "id": "FGANvZIQboxZ",
        "outputId": "29c2c723-27d6-4a17-c9b6-56c874e74e12"
      },
      "execution_count": 82,
      "outputs": [
        {
          "output_type": "execute_result",
          "data": {
            "text/plain": [
              "array([   1.,   10.,  100., 1000.])"
            ]
          },
          "metadata": {},
          "execution_count": 82
        }
      ]
    },
    {
      "cell_type": "code",
      "source": [
        "# Generate coordinate matrices from coordinate vectors\n",
        "x, y = np.meshgrid(np.arange(3), np.arange(3))\n",
        "print(x)\n",
        "print(y)"
      ],
      "metadata": {
        "colab": {
          "base_uri": "https://localhost:8080/"
        },
        "id": "DnnrZDJIVhlF",
        "outputId": "db256793-38e7-4d3c-c6d0-6f5c1e7301fb"
      },
      "execution_count": 83,
      "outputs": [
        {
          "output_type": "stream",
          "name": "stdout",
          "text": [
            "[[0 1 2]\n",
            " [0 1 2]\n",
            " [0 1 2]]\n",
            "[[0 0 0]\n",
            " [1 1 1]\n",
            " [2 2 2]]\n"
          ]
        }
      ]
    },
    {
      "cell_type": "code",
      "source": [
        "# Create an array with random values between 0 and 1\n",
        "random_arr = np.random.rand(3, 3)\n",
        "random_arr"
      ],
      "metadata": {
        "colab": {
          "base_uri": "https://localhost:8080/"
        },
        "id": "nc3_qlIpVncN",
        "outputId": "66cfd516-e86a-49b8-b5ff-92111eb46aa5"
      },
      "execution_count": 84,
      "outputs": [
        {
          "output_type": "execute_result",
          "data": {
            "text/plain": [
              "array([[0.21681729, 0.57219943, 0.52424318],\n",
              "       [0.55305569, 0.40923924, 0.90772444],\n",
              "       [0.29417166, 0.32312952, 0.37142785]])"
            ]
          },
          "metadata": {},
          "execution_count": 84
        }
      ]
    },
    {
      "cell_type": "code",
      "source": [
        "# Create an array with samples from the standard normal distribution\n",
        "randn_arr = np.random.randn(3, 3)\n",
        "randn_arr"
      ],
      "metadata": {
        "colab": {
          "base_uri": "https://localhost:8080/"
        },
        "id": "YYhDPZSRVwlN",
        "outputId": "4ab837c5-40fd-41ca-8721-b67b98f4f2bc"
      },
      "execution_count": 85,
      "outputs": [
        {
          "output_type": "execute_result",
          "data": {
            "text/plain": [
              "array([[-0.53127806,  1.03374719,  0.75394304],\n",
              "       [ 0.78183926,  1.11610026,  0.15762432],\n",
              "       [ 1.08956517,  0.47556415,  0.37315679]])"
            ]
          },
          "metadata": {},
          "execution_count": 85
        }
      ]
    },
    {
      "cell_type": "code",
      "source": [
        "# Create an array with random integers\n",
        "randint_arr = np.random.randint(0, 10, (3, 3))\n",
        "randint_arr"
      ],
      "metadata": {
        "colab": {
          "base_uri": "https://localhost:8080/"
        },
        "id": "E8y3RxsgV3HT",
        "outputId": "cf42c7e5-3ff0-4889-f896-d82b73e55f92"
      },
      "execution_count": 86,
      "outputs": [
        {
          "output_type": "execute_result",
          "data": {
            "text/plain": [
              "array([[4, 9, 9],\n",
              "       [6, 4, 4],\n",
              "       [8, 6, 9]])"
            ]
          },
          "metadata": {},
          "execution_count": 86
        }
      ]
    },
    {
      "cell_type": "markdown",
      "source": [
        "# **2. Array Manipulation**"
      ],
      "metadata": {
        "id": "BjZbCrZUcceo"
      }
    },
    {
      "cell_type": "code",
      "source": [
        "# Reshape the array\n",
        "reshaped_arr = arr.reshape((5, 1))\n",
        "reshaped_arr"
      ],
      "metadata": {
        "colab": {
          "base_uri": "https://localhost:8080/"
        },
        "id": "uNg59nE6cr4Q",
        "outputId": "56de2b39-18c8-48b8-ae4c-2d222f5dd2e9"
      },
      "execution_count": 87,
      "outputs": [
        {
          "output_type": "execute_result",
          "data": {
            "text/plain": [
              "array([[1],\n",
              "       [2],\n",
              "       [3],\n",
              "       [4],\n",
              "       [5]])"
            ]
          },
          "metadata": {},
          "execution_count": 87
        }
      ]
    },
    {
      "cell_type": "code",
      "source": [
        "# Flatten the array\n",
        "flattened_arr = reshaped_arr.ravel()\n",
        "flattened_arr"
      ],
      "metadata": {
        "colab": {
          "base_uri": "https://localhost:8080/"
        },
        "id": "7dQuGgl0cwCo",
        "outputId": "bae088e1-9e4a-43e0-8256-c7a981da1f53"
      },
      "execution_count": 88,
      "outputs": [
        {
          "output_type": "execute_result",
          "data": {
            "text/plain": [
              "array([1, 2, 3, 4, 5])"
            ]
          },
          "metadata": {},
          "execution_count": 88
        }
      ]
    },
    {
      "cell_type": "code",
      "source": [
        "# Transpose the array\n",
        "transposed_arr = np.transpose(reshaped_arr)\n",
        "transposed_arr"
      ],
      "metadata": {
        "colab": {
          "base_uri": "https://localhost:8080/"
        },
        "id": "r2fATtQyc0q_",
        "outputId": "974709dc-ba2e-4578-d801-0a5fed02b9e0"
      },
      "execution_count": 89,
      "outputs": [
        {
          "output_type": "execute_result",
          "data": {
            "text/plain": [
              "array([[1, 2, 3, 4, 5]])"
            ]
          },
          "metadata": {},
          "execution_count": 89
        }
      ]
    },
    {
      "cell_type": "code",
      "source": [
        "# Swap two axes of an array\n",
        "swapped_arr = np.swapaxes(zeros_arr, 0, 1)\n",
        "swapped_arr"
      ],
      "metadata": {
        "colab": {
          "base_uri": "https://localhost:8080/"
        },
        "id": "2XZhe4gIWH-y",
        "outputId": "52af01b0-445f-42ac-8299-dbe895a4fc6b"
      },
      "execution_count": 90,
      "outputs": [
        {
          "output_type": "execute_result",
          "data": {
            "text/plain": [
              "array([[0., 0., 0.],\n",
              "       [0., 0., 0.],\n",
              "       [0., 0., 0.]])"
            ]
          },
          "metadata": {},
          "execution_count": 90
        }
      ]
    },
    {
      "cell_type": "code",
      "source": [
        "# Join two or more arrays along an axis\n",
        "concatenated_arr = np.concatenate((arr, arr))\n",
        "concatenated_arr"
      ],
      "metadata": {
        "colab": {
          "base_uri": "https://localhost:8080/"
        },
        "id": "yeTnxSXvc72p",
        "outputId": "8d400add-4bec-4ee5-c3d0-a18749c6b667"
      },
      "execution_count": 91,
      "outputs": [
        {
          "output_type": "execute_result",
          "data": {
            "text/plain": [
              "array([1, 2, 3, 4, 5, 1, 2, 3, 4, 5])"
            ]
          },
          "metadata": {},
          "execution_count": 91
        }
      ]
    },
    {
      "cell_type": "code",
      "source": [
        "# Stack arrays along a new axis\n",
        "stacked_arr = np.stack((arr, arr))\n",
        "stacked_arr"
      ],
      "metadata": {
        "colab": {
          "base_uri": "https://localhost:8080/"
        },
        "id": "UJH1Z0cndANQ",
        "outputId": "473cd337-4567-4560-86b6-770cb8660017"
      },
      "execution_count": 92,
      "outputs": [
        {
          "output_type": "execute_result",
          "data": {
            "text/plain": [
              "array([[1, 2, 3, 4, 5],\n",
              "       [1, 2, 3, 4, 5]])"
            ]
          },
          "metadata": {},
          "execution_count": 92
        }
      ]
    },
    {
      "cell_type": "code",
      "source": [
        "# Split the array into multiple sub-arrays\n",
        "split_arr = np.split(arr, 5)\n",
        "split_arr"
      ],
      "metadata": {
        "colab": {
          "base_uri": "https://localhost:8080/"
        },
        "id": "IU64CINHdHy3",
        "outputId": "5655decf-ae93-4137-8a51-b186f1528f03"
      },
      "execution_count": 93,
      "outputs": [
        {
          "output_type": "execute_result",
          "data": {
            "text/plain": [
              "[array([1]), array([2]), array([3]), array([4]), array([5])]"
            ]
          },
          "metadata": {},
          "execution_count": 93
        }
      ]
    },
    {
      "cell_type": "code",
      "source": [
        "# Construct an array by repeating it\n",
        "tiled_arr = np.tile(arr, 2)\n",
        "tiled_arr"
      ],
      "metadata": {
        "colab": {
          "base_uri": "https://localhost:8080/"
        },
        "id": "wurQVOPnWfnw",
        "outputId": "fbc03a14-0de3-47dc-edcd-18e2a9ad08a7"
      },
      "execution_count": 94,
      "outputs": [
        {
          "output_type": "execute_result",
          "data": {
            "text/plain": [
              "array([1, 2, 3, 4, 5, 1, 2, 3, 4, 5])"
            ]
          },
          "metadata": {},
          "execution_count": 94
        }
      ]
    },
    {
      "cell_type": "code",
      "source": [
        "# Repeat elements of an array\n",
        "repeated_arr = np.repeat(arr, 2)\n",
        "repeated_arr"
      ],
      "metadata": {
        "colab": {
          "base_uri": "https://localhost:8080/"
        },
        "id": "4MRCXDHZW9sx",
        "outputId": "d9cff6d2-9d40-4356-a8f9-2d2ff6089840"
      },
      "execution_count": 95,
      "outputs": [
        {
          "output_type": "execute_result",
          "data": {
            "text/plain": [
              "array([1, 1, 2, 2, 3, 3, 4, 4, 5, 5])"
            ]
          },
          "metadata": {},
          "execution_count": 95
        }
      ]
    },
    {
      "cell_type": "code",
      "source": [
        "# Append values to the end of an array\n",
        "appended_arr = np.append(arr, [4, 5, 6])\n",
        "appended_arr"
      ],
      "metadata": {
        "colab": {
          "base_uri": "https://localhost:8080/"
        },
        "id": "llcz2yWNXBju",
        "outputId": "1fa3689c-43ad-4d48-b247-8b0cb589e8ec"
      },
      "execution_count": 96,
      "outputs": [
        {
          "output_type": "execute_result",
          "data": {
            "text/plain": [
              "array([1, 2, 3, 4, 5, 4, 5, 6])"
            ]
          },
          "metadata": {},
          "execution_count": 96
        }
      ]
    },
    {
      "cell_type": "code",
      "source": [
        "# Insert values into an array\n",
        "inserted_arr = np.insert(arr, 1, [10])\n",
        "inserted_arr"
      ],
      "metadata": {
        "colab": {
          "base_uri": "https://localhost:8080/"
        },
        "id": "CkBzXmHKXE_A",
        "outputId": "07a8d3a1-e0bc-43f1-ca74-59356d1ae1e2"
      },
      "execution_count": 97,
      "outputs": [
        {
          "output_type": "execute_result",
          "data": {
            "text/plain": [
              "array([ 1, 10,  2,  3,  4,  5])"
            ]
          },
          "metadata": {},
          "execution_count": 97
        }
      ]
    },
    {
      "cell_type": "code",
      "source": [
        "# Delete elements from an array\n",
        "deleted_arr = np.delete(arr, [1])\n",
        "deleted_arr"
      ],
      "metadata": {
        "colab": {
          "base_uri": "https://localhost:8080/"
        },
        "id": "QFPW7cIyXQ6Y",
        "outputId": "b139baa1-5f40-4c86-c18c-bb569c1c3408"
      },
      "execution_count": 98,
      "outputs": [
        {
          "output_type": "execute_result",
          "data": {
            "text/plain": [
              "array([1, 3, 4, 5])"
            ]
          },
          "metadata": {},
          "execution_count": 98
        }
      ]
    },
    {
      "cell_type": "code",
      "source": [
        "# Expand the dimensions of an array\n",
        "expanded_arr = np.expand_dims(arr, axis=0)\n",
        "expanded_arr"
      ],
      "metadata": {
        "colab": {
          "base_uri": "https://localhost:8080/"
        },
        "id": "tUVsiYRiXU4R",
        "outputId": "4675f8e5-5233-46c1-ef36-3550da2b7a81"
      },
      "execution_count": 99,
      "outputs": [
        {
          "output_type": "execute_result",
          "data": {
            "text/plain": [
              "array([[1, 2, 3, 4, 5]])"
            ]
          },
          "metadata": {},
          "execution_count": 99
        }
      ]
    },
    {
      "cell_type": "code",
      "source": [
        "# Remove single-dimensional entries from the shape of an array\n",
        "squeezed_arr = np.squeeze(expanded_arr)\n",
        "squeezed_arr"
      ],
      "metadata": {
        "colab": {
          "base_uri": "https://localhost:8080/"
        },
        "id": "A8_SfUDMXYvv",
        "outputId": "fd428db1-9cc0-4b59-b696-9f2f53f51a62"
      },
      "execution_count": 100,
      "outputs": [
        {
          "output_type": "execute_result",
          "data": {
            "text/plain": [
              "array([1, 2, 3, 4, 5])"
            ]
          },
          "metadata": {},
          "execution_count": 100
        }
      ]
    },
    {
      "cell_type": "code",
      "source": [
        "# Reverse the order of elements in an array\n",
        "flipped_arr = np.flip(arr)\n",
        "flipped_arr"
      ],
      "metadata": {
        "colab": {
          "base_uri": "https://localhost:8080/"
        },
        "id": "AMYXY7VAW9rO",
        "outputId": "81863bf8-f030-4dd3-8aad-77b118e00f00"
      },
      "execution_count": 101,
      "outputs": [
        {
          "output_type": "execute_result",
          "data": {
            "text/plain": [
              "array([5, 4, 3, 2, 1])"
            ]
          },
          "metadata": {},
          "execution_count": 101
        }
      ]
    },
    {
      "cell_type": "code",
      "source": [
        "# Expand dimensions\n",
        "expanded_arr = np.expand_dims(arr, axis=1)\n",
        "expanded_arr"
      ],
      "metadata": {
        "colab": {
          "base_uri": "https://localhost:8080/"
        },
        "id": "McDdcJq_dKkf",
        "outputId": "5a5b86d1-89d8-410b-d3d7-a783e5669b38"
      },
      "execution_count": 102,
      "outputs": [
        {
          "output_type": "execute_result",
          "data": {
            "text/plain": [
              "array([[1],\n",
              "       [2],\n",
              "       [3],\n",
              "       [4],\n",
              "       [5]])"
            ]
          },
          "metadata": {},
          "execution_count": 102
        }
      ]
    },
    {
      "cell_type": "code",
      "source": [
        "# Squeeze dimensions\n",
        "squeezed_arr = np.squeeze(expanded_arr)\n",
        "squeezed_arr"
      ],
      "metadata": {
        "colab": {
          "base_uri": "https://localhost:8080/"
        },
        "id": "wOOYKajWcX9i",
        "outputId": "4edc5230-b2c3-495e-87ce-0b40e1614628"
      },
      "execution_count": 103,
      "outputs": [
        {
          "output_type": "execute_result",
          "data": {
            "text/plain": [
              "array([1, 2, 3, 4, 5])"
            ]
          },
          "metadata": {},
          "execution_count": 103
        }
      ]
    },
    {
      "cell_type": "markdown",
      "source": [
        "# **3. Array Operations**"
      ],
      "metadata": {
        "id": "y0wl-LgBdcev"
      }
    },
    {
      "cell_type": "code",
      "source": [
        "# Element-wise addition\n",
        "add_arr = np.add(arr, arr)\n",
        "add_arr"
      ],
      "metadata": {
        "colab": {
          "base_uri": "https://localhost:8080/"
        },
        "id": "yPAgAa3jdniE",
        "outputId": "abd76373-50db-4724-8a1a-35c053c7dbb7"
      },
      "execution_count": 104,
      "outputs": [
        {
          "output_type": "execute_result",
          "data": {
            "text/plain": [
              "array([ 2,  4,  6,  8, 10])"
            ]
          },
          "metadata": {},
          "execution_count": 104
        }
      ]
    },
    {
      "cell_type": "code",
      "source": [
        "# Element-wise subtraction\n",
        "sub_arr = np.subtract(arr, arr)\n",
        "sub_arr"
      ],
      "metadata": {
        "colab": {
          "base_uri": "https://localhost:8080/"
        },
        "id": "x64uSX-SdsFM",
        "outputId": "a1f7ada4-36e4-4c75-8f7f-6bb6eb85cbfc"
      },
      "execution_count": 105,
      "outputs": [
        {
          "output_type": "execute_result",
          "data": {
            "text/plain": [
              "array([0, 0, 0, 0, 0])"
            ]
          },
          "metadata": {},
          "execution_count": 105
        }
      ]
    },
    {
      "cell_type": "code",
      "source": [
        "# Element-wise multiplication\n",
        "mul_arr = np.multiply(arr, arr)\n",
        "mul_arr"
      ],
      "metadata": {
        "colab": {
          "base_uri": "https://localhost:8080/"
        },
        "id": "OmjgHPRbdukw",
        "outputId": "88a7721a-571b-41bd-dd00-fbd825383430"
      },
      "execution_count": 106,
      "outputs": [
        {
          "output_type": "execute_result",
          "data": {
            "text/plain": [
              "array([ 1,  4,  9, 16, 25])"
            ]
          },
          "metadata": {},
          "execution_count": 106
        }
      ]
    },
    {
      "cell_type": "code",
      "source": [
        "# Element-wise division\n",
        "div_arr = np.divide(arr, arr)\n",
        "div_arr"
      ],
      "metadata": {
        "colab": {
          "base_uri": "https://localhost:8080/"
        },
        "id": "FIBDtYX6dzCB",
        "outputId": "b08c6de8-bf50-442d-e082-715956762e9c"
      },
      "execution_count": 107,
      "outputs": [
        {
          "output_type": "execute_result",
          "data": {
            "text/plain": [
              "array([1., 1., 1., 1., 1.])"
            ]
          },
          "metadata": {},
          "execution_count": 107
        }
      ]
    },
    {
      "cell_type": "code",
      "source": [
        "# Raise elements of the array to powers\n",
        "pow_arr = np.power(arr, 2)\n",
        "pow_arr"
      ],
      "metadata": {
        "colab": {
          "base_uri": "https://localhost:8080/"
        },
        "id": "AQCsbXVXX-DZ",
        "outputId": "21e0104d-8e01-49b0-98f8-d3a2564f456d"
      },
      "execution_count": 108,
      "outputs": [
        {
          "output_type": "execute_result",
          "data": {
            "text/plain": [
              "array([ 1,  4,  9, 16, 25])"
            ]
          },
          "metadata": {},
          "execution_count": 108
        }
      ]
    },
    {
      "cell_type": "code",
      "source": [
        "# Dot product of two arrays\n",
        "dot_product = np.dot(arr, arr)\n",
        "dot_product"
      ],
      "metadata": {
        "colab": {
          "base_uri": "https://localhost:8080/"
        },
        "id": "vMuKRDwHd5qp",
        "outputId": "9ca7e40a-733e-47d1-cf02-f359191c07ba"
      },
      "execution_count": 109,
      "outputs": [
        {
          "output_type": "execute_result",
          "data": {
            "text/plain": [
              "55"
            ]
          },
          "metadata": {},
          "execution_count": 109
        }
      ]
    },
    {
      "cell_type": "code",
      "source": [
        "# Matrix product of two arrays\n",
        "matmul_arr = np.matmul(arr, arr)\n",
        "matmul_arr"
      ],
      "metadata": {
        "colab": {
          "base_uri": "https://localhost:8080/"
        },
        "id": "mEizCn3BYLE2",
        "outputId": "1d143f1c-a85e-4df4-c176-97744c271344"
      },
      "execution_count": 110,
      "outputs": [
        {
          "output_type": "execute_result",
          "data": {
            "text/plain": [
              "55"
            ]
          },
          "metadata": {},
          "execution_count": 110
        }
      ]
    },
    {
      "cell_type": "code",
      "source": [
        "# Inner product of two arrays\n",
        "inner_arr = np.inner(arr, arr)\n",
        "inner_arr"
      ],
      "metadata": {
        "colab": {
          "base_uri": "https://localhost:8080/"
        },
        "id": "45CPPOOfYOgA",
        "outputId": "5ac35f13-382f-415f-a681-7865da50a052"
      },
      "execution_count": 111,
      "outputs": [
        {
          "output_type": "execute_result",
          "data": {
            "text/plain": [
              "55"
            ]
          },
          "metadata": {},
          "execution_count": 111
        }
      ]
    },
    {
      "cell_type": "code",
      "source": [
        "# Outer product of two arrays\n",
        "outer_arr = np.outer(arr, arr)\n",
        "outer_arr"
      ],
      "metadata": {
        "colab": {
          "base_uri": "https://localhost:8080/"
        },
        "id": "ZnirlZDnYReO",
        "outputId": "be2271a2-14c6-4146-a546-7bd103936716"
      },
      "execution_count": 112,
      "outputs": [
        {
          "output_type": "execute_result",
          "data": {
            "text/plain": [
              "array([[ 1,  2,  3,  4,  5],\n",
              "       [ 2,  4,  6,  8, 10],\n",
              "       [ 3,  6,  9, 12, 15],\n",
              "       [ 4,  8, 12, 16, 20],\n",
              "       [ 5, 10, 15, 20, 25]])"
            ]
          },
          "metadata": {},
          "execution_count": 112
        }
      ]
    },
    {
      "cell_type": "code",
      "source": [
        "# Kronecker product of two arrays\n",
        "kron_arr = np.kron(arr, arr)\n",
        "kron_arr"
      ],
      "metadata": {
        "colab": {
          "base_uri": "https://localhost:8080/"
        },
        "id": "m3g-pkx_YVZw",
        "outputId": "8444f421-b3e3-4587-da50-0f1b784a1e29"
      },
      "execution_count": 113,
      "outputs": [
        {
          "output_type": "execute_result",
          "data": {
            "text/plain": [
              "array([ 1,  2,  3,  4,  5,  2,  4,  6,  8, 10,  3,  6,  9, 12, 15,  4,  8,\n",
              "       12, 16, 20,  5, 10, 15, 20, 25])"
            ]
          },
          "metadata": {},
          "execution_count": 113
        }
      ]
    },
    {
      "cell_type": "code",
      "source": [
        "# Compute the mean of array elements\n",
        "mean_value = np.mean(arr)\n",
        "mean_value"
      ],
      "metadata": {
        "colab": {
          "base_uri": "https://localhost:8080/"
        },
        "id": "_ZA6qF7OYeiW",
        "outputId": "8d3a8cf5-8adb-4750-ac31-77f88e89ca1e"
      },
      "execution_count": 114,
      "outputs": [
        {
          "output_type": "execute_result",
          "data": {
            "text/plain": [
              "3.0"
            ]
          },
          "metadata": {},
          "execution_count": 114
        }
      ]
    },
    {
      "cell_type": "code",
      "source": [
        "# Compute the standard deviation of array elements\n",
        "std_value = np.std(arr)\n",
        "std_value"
      ],
      "metadata": {
        "colab": {
          "base_uri": "https://localhost:8080/"
        },
        "id": "Uv-PrmBiYhMH",
        "outputId": "ac4bd11d-b2d8-4d19-c7b9-29048349e96a"
      },
      "execution_count": 115,
      "outputs": [
        {
          "output_type": "execute_result",
          "data": {
            "text/plain": [
              "1.4142135623730951"
            ]
          },
          "metadata": {},
          "execution_count": 115
        }
      ]
    },
    {
      "cell_type": "code",
      "source": [
        "# Compute the variance of array elements\n",
        "var_value = np.var(arr)\n",
        "var_value"
      ],
      "metadata": {
        "colab": {
          "base_uri": "https://localhost:8080/"
        },
        "id": "U-lKswBVYkyJ",
        "outputId": "303ef9ae-b8a0-470b-870d-1da3cc8491fd"
      },
      "execution_count": 116,
      "outputs": [
        {
          "output_type": "execute_result",
          "data": {
            "text/plain": [
              "2.0"
            ]
          },
          "metadata": {},
          "execution_count": 116
        }
      ]
    },
    {
      "cell_type": "code",
      "source": [
        "# Sum of array elements\n",
        "sum_value = np.sum(arr)\n",
        "sum_value"
      ],
      "metadata": {
        "colab": {
          "base_uri": "https://localhost:8080/"
        },
        "id": "JNG3YwBLYoI5",
        "outputId": "7b932189-6e35-4f6f-8579-114273f45fb2"
      },
      "execution_count": 117,
      "outputs": [
        {
          "output_type": "execute_result",
          "data": {
            "text/plain": [
              "15"
            ]
          },
          "metadata": {},
          "execution_count": 117
        }
      ]
    },
    {
      "cell_type": "code",
      "source": [
        "# Product of array elements\n",
        "prod_value = np.prod(arr)\n",
        "prod_value"
      ],
      "metadata": {
        "colab": {
          "base_uri": "https://localhost:8080/"
        },
        "id": "TFu_ZoLjYrA3",
        "outputId": "6249ecf4-592f-468d-dde0-3ee987f4a94b"
      },
      "execution_count": 118,
      "outputs": [
        {
          "output_type": "execute_result",
          "data": {
            "text/plain": [
              "120"
            ]
          },
          "metadata": {},
          "execution_count": 118
        }
      ]
    },
    {
      "cell_type": "code",
      "source": [
        "# Cumulative sum of array elements\n",
        "cumsum_value = np.cumsum(arr)\n",
        "cumsum_value"
      ],
      "metadata": {
        "colab": {
          "base_uri": "https://localhost:8080/"
        },
        "id": "NQ47rd4-Yta-",
        "outputId": "10cfd8cd-6917-4972-8284-103fc2169511"
      },
      "execution_count": 119,
      "outputs": [
        {
          "output_type": "execute_result",
          "data": {
            "text/plain": [
              "array([ 1,  3,  6, 10, 15])"
            ]
          },
          "metadata": {},
          "execution_count": 119
        }
      ]
    },
    {
      "cell_type": "code",
      "source": [
        "# Cumulative product of array elements\n",
        "cumprod_value = np.cumprod(arr)\n",
        "cumprod_value"
      ],
      "metadata": {
        "colab": {
          "base_uri": "https://localhost:8080/"
        },
        "id": "udg_gBopYv_X",
        "outputId": "6f39ee65-8227-4a80-fe67-aaa284bb9ea5"
      },
      "execution_count": 120,
      "outputs": [
        {
          "output_type": "execute_result",
          "data": {
            "text/plain": [
              "array([  1,   2,   6,  24, 120])"
            ]
          },
          "metadata": {},
          "execution_count": 120
        }
      ]
    },
    {
      "cell_type": "code",
      "source": [
        "# Minimum of array elements\n",
        "min_value = np.min(arr)\n",
        "min_value"
      ],
      "metadata": {
        "colab": {
          "base_uri": "https://localhost:8080/"
        },
        "id": "HmXyLTvMY2VM",
        "outputId": "2a845aec-11b2-48b0-e39f-42f371fe3f3e"
      },
      "execution_count": 121,
      "outputs": [
        {
          "output_type": "execute_result",
          "data": {
            "text/plain": [
              "1"
            ]
          },
          "metadata": {},
          "execution_count": 121
        }
      ]
    },
    {
      "cell_type": "code",
      "source": [
        "# Maximum of array elements\n",
        "max_value = np.max(arr)\n",
        "max_value"
      ],
      "metadata": {
        "colab": {
          "base_uri": "https://localhost:8080/"
        },
        "id": "cth4ECyOY4Y8",
        "outputId": "71080761-b774-40d1-a9ea-1962720b2ac5"
      },
      "execution_count": 122,
      "outputs": [
        {
          "output_type": "execute_result",
          "data": {
            "text/plain": [
              "5"
            ]
          },
          "metadata": {},
          "execution_count": 122
        }
      ]
    },
    {
      "cell_type": "code",
      "source": [
        "# Index of the minimum element\n",
        "argmin_value = np.argmin(arr)\n",
        "argmin_value"
      ],
      "metadata": {
        "colab": {
          "base_uri": "https://localhost:8080/"
        },
        "id": "u43Vsb60Y78O",
        "outputId": "b45f84cd-8cca-4b7e-bab9-fdb5a7b79d8a"
      },
      "execution_count": 123,
      "outputs": [
        {
          "output_type": "execute_result",
          "data": {
            "text/plain": [
              "0"
            ]
          },
          "metadata": {},
          "execution_count": 123
        }
      ]
    },
    {
      "cell_type": "code",
      "source": [
        "# Index of the maximum element\n",
        "argmax_value = np.argmax(arr)\n",
        "argmax_value"
      ],
      "metadata": {
        "colab": {
          "base_uri": "https://localhost:8080/"
        },
        "id": "WZG4Vx8sY-0Q",
        "outputId": "75e0bc12-6dc7-4379-dbf8-26039c09efbd"
      },
      "execution_count": 124,
      "outputs": [
        {
          "output_type": "execute_result",
          "data": {
            "text/plain": [
              "4"
            ]
          },
          "metadata": {},
          "execution_count": 124
        }
      ]
    },
    {
      "cell_type": "code",
      "source": [
        "# Sort the array elements\n",
        "sorted_arr = np.sort(arr)\n",
        "sorted_arr"
      ],
      "metadata": {
        "colab": {
          "base_uri": "https://localhost:8080/"
        },
        "id": "A8g28Dz5ZCOH",
        "outputId": "4b304a4e-be6a-4c77-bb82-5e7d9d21762f"
      },
      "execution_count": 125,
      "outputs": [
        {
          "output_type": "execute_result",
          "data": {
            "text/plain": [
              "array([1, 2, 3, 4, 5])"
            ]
          },
          "metadata": {},
          "execution_count": 125
        }
      ]
    },
    {
      "cell_type": "code",
      "source": [
        "# Indices that would sort the array\n",
        "argsort_arr = np.argsort(arr)\n",
        "argsort_arr"
      ],
      "metadata": {
        "colab": {
          "base_uri": "https://localhost:8080/"
        },
        "id": "I6oNk2moZIMI",
        "outputId": "d9b8d809-b9a8-401e-bcb5-414669c3b1b2"
      },
      "execution_count": 126,
      "outputs": [
        {
          "output_type": "execute_result",
          "data": {
            "text/plain": [
              "array([0, 1, 2, 3, 4])"
            ]
          },
          "metadata": {},
          "execution_count": 126
        }
      ]
    },
    {
      "cell_type": "code",
      "source": [
        "# Median of array elements\n",
        "median_value = np.median(arr)\n",
        "median_value"
      ],
      "metadata": {
        "colab": {
          "base_uri": "https://localhost:8080/"
        },
        "id": "WrqvbDRWZK4i",
        "outputId": "947b0ffd-591e-4622-a49c-c6907dce94f6"
      },
      "execution_count": 127,
      "outputs": [
        {
          "output_type": "execute_result",
          "data": {
            "text/plain": [
              "3.0"
            ]
          },
          "metadata": {},
          "execution_count": 127
        }
      ]
    },
    {
      "cell_type": "code",
      "source": [
        "# Percentile of array elements\n",
        "percentile_value = np.percentile(arr, 50)\n",
        "percentile_value"
      ],
      "metadata": {
        "colab": {
          "base_uri": "https://localhost:8080/"
        },
        "id": "aq6h5R9NYJaP",
        "outputId": "95c65de2-e1a8-4c5b-f552-dd224ba1e163"
      },
      "execution_count": 128,
      "outputs": [
        {
          "output_type": "execute_result",
          "data": {
            "text/plain": [
              "3.0"
            ]
          },
          "metadata": {},
          "execution_count": 128
        }
      ]
    },
    {
      "cell_type": "markdown",
      "source": [
        "# **4. Linear Algebra**"
      ],
      "metadata": {
        "id": "__opHDtWeTcR"
      }
    },
    {
      "cell_type": "code",
      "source": [
        "# Compute the inverse of a matrix\n",
        "matrix = np.array([[1, 2], [3, 4]])\n",
        "inv_matrix = np.linalg.inv(matrix)\n",
        "inv_matrix"
      ],
      "metadata": {
        "colab": {
          "base_uri": "https://localhost:8080/"
        },
        "id": "5R1-QsNlZeMo",
        "outputId": "a9975ad7-f3ca-4d63-b6af-470c4d04df2e"
      },
      "execution_count": 129,
      "outputs": [
        {
          "output_type": "execute_result",
          "data": {
            "text/plain": [
              "array([[-2. ,  1. ],\n",
              "       [ 1.5, -0.5]])"
            ]
          },
          "metadata": {},
          "execution_count": 129
        }
      ]
    },
    {
      "cell_type": "code",
      "source": [
        "# Compute the determinant of a matrix\n",
        "det_value = np.linalg.det(matrix)\n",
        "det_value"
      ],
      "metadata": {
        "colab": {
          "base_uri": "https://localhost:8080/"
        },
        "id": "e5uoR-qFZgXP",
        "outputId": "3ccde93c-a8b9-423b-eba9-64cea67f2999"
      },
      "execution_count": 130,
      "outputs": [
        {
          "output_type": "execute_result",
          "data": {
            "text/plain": [
              "-2.0000000000000004"
            ]
          },
          "metadata": {},
          "execution_count": 130
        }
      ]
    },
    {
      "cell_type": "code",
      "source": [
        "# Compute the eigenvalues and eigenvectors of a matrix\n",
        "eigenvalues, eigenvectors = np.linalg.eig(matrix)\n",
        "print(eigenvalues)\n",
        "print(eigenvectors)"
      ],
      "metadata": {
        "colab": {
          "base_uri": "https://localhost:8080/"
        },
        "id": "Z3sZxeyTZjeh",
        "outputId": "6aa65cb2-962f-4b6d-b4b3-87b0e5e37a80"
      },
      "execution_count": 131,
      "outputs": [
        {
          "output_type": "stream",
          "name": "stdout",
          "text": [
            "[-0.37228132  5.37228132]\n",
            "[[-0.82456484 -0.41597356]\n",
            " [ 0.56576746 -0.90937671]]\n"
          ]
        }
      ]
    },
    {
      "cell_type": "code",
      "source": [
        "# Singular Value Decomposition (SVD)\n",
        "U, S, V = np.linalg.svd(matrix)\n",
        "print(U)\n",
        "print(S)\n",
        "print(V)"
      ],
      "metadata": {
        "colab": {
          "base_uri": "https://localhost:8080/"
        },
        "id": "OoilDxz5ZmGv",
        "outputId": "e5e5380f-f6b2-44c4-ad53-d5cccd699826"
      },
      "execution_count": 132,
      "outputs": [
        {
          "output_type": "stream",
          "name": "stdout",
          "text": [
            "[[-0.40455358 -0.9145143 ]\n",
            " [-0.9145143   0.40455358]]\n",
            "[5.4649857  0.36596619]\n",
            "[[-0.57604844 -0.81741556]\n",
            " [ 0.81741556 -0.57604844]]\n"
          ]
        }
      ]
    },
    {
      "cell_type": "code",
      "source": [
        "# Compute the matrix or vector norm\n",
        "norm_value = np.linalg.norm(matrix)\n",
        "norm_value"
      ],
      "metadata": {
        "colab": {
          "base_uri": "https://localhost:8080/"
        },
        "id": "pcyVnnS3ZpLN",
        "outputId": "d3f3ea73-53dc-47b5-a6ec-7f2a8d147008"
      },
      "execution_count": 133,
      "outputs": [
        {
          "output_type": "execute_result",
          "data": {
            "text/plain": [
              "5.477225575051661"
            ]
          },
          "metadata": {},
          "execution_count": 133
        }
      ]
    },
    {
      "cell_type": "code",
      "source": [
        "# Solve a linear matrix equation\n",
        "sol = np.linalg.solve(matrix, np.array([1, 2]))\n",
        "sol"
      ],
      "metadata": {
        "colab": {
          "base_uri": "https://localhost:8080/"
        },
        "id": "clWszsXXZrXW",
        "outputId": "d0490b73-c26a-4822-8ab1-59c7226ef7cd"
      },
      "execution_count": 134,
      "outputs": [
        {
          "output_type": "execute_result",
          "data": {
            "text/plain": [
              "array([0. , 0.5])"
            ]
          },
          "metadata": {},
          "execution_count": 134
        }
      ]
    },
    {
      "cell_type": "code",
      "source": [
        "# Solve a linear least squares problem\n",
        "lstsq_sol = np.linalg.lstsq(matrix, np.array([1, 2]), rcond=None)\n",
        "lstsq_sol"
      ],
      "metadata": {
        "colab": {
          "base_uri": "https://localhost:8080/"
        },
        "id": "qiXMFJ0ReePF",
        "outputId": "1fab5f08-059b-4e8a-9d7b-3fa64789a396"
      },
      "execution_count": 135,
      "outputs": [
        {
          "output_type": "execute_result",
          "data": {
            "text/plain": [
              "(array([1.10886662e-16, 5.00000000e-01]),\n",
              " array([], dtype=float64),\n",
              " 2,\n",
              " array([5.4649857 , 0.36596619]))"
            ]
          },
          "metadata": {},
          "execution_count": 135
        }
      ]
    },
    {
      "cell_type": "markdown",
      "source": [
        "# **5. Fourier Transform**"
      ],
      "metadata": {
        "id": "utF-CFlNe7i0"
      }
    },
    {
      "cell_type": "code",
      "source": [
        "# One-dimensional discrete Fourier Transform\n",
        "fft_result = np.fft.fft(arr)\n",
        "fft_result"
      ],
      "metadata": {
        "colab": {
          "base_uri": "https://localhost:8080/"
        },
        "id": "We4VdIk7fO5A",
        "outputId": "f8fca040-5004-428d-e917-f24fb3810028"
      },
      "execution_count": null,
      "outputs": [
        {
          "output_type": "execute_result",
          "data": {
            "text/plain": [
              "array([15. +0.j        , -2.5+3.4409548j , -2.5+0.81229924j,\n",
              "       -2.5-0.81229924j, -2.5-3.4409548j ])"
            ]
          },
          "metadata": {},
          "execution_count": 39
        }
      ]
    },
    {
      "cell_type": "code",
      "source": [
        "# Inverse discrete Fourier Transform\n",
        "ifft_result = np.fft.ifft(fft_result)\n",
        "ifft_result"
      ],
      "metadata": {
        "colab": {
          "base_uri": "https://localhost:8080/"
        },
        "id": "tdnVVhg0e3ZC",
        "outputId": "b1e8afbc-8a1f-4095-d5f4-2dca09342c34"
      },
      "execution_count": null,
      "outputs": [
        {
          "output_type": "execute_result",
          "data": {
            "text/plain": [
              "array([1.+0.j, 2.+0.j, 3.+0.j, 4.+0.j, 5.+0.j])"
            ]
          },
          "metadata": {},
          "execution_count": 40
        }
      ]
    },
    {
      "cell_type": "code",
      "source": [
        "# Compute the two-dimensional discrete Fourier Transform\n",
        "fft2_arr = np.fft.fft2(identity_matrix)\n",
        "fft2_arr"
      ],
      "metadata": {
        "colab": {
          "base_uri": "https://localhost:8080/"
        },
        "id": "8tTu0z4VZ4hy",
        "outputId": "0f524a08-0db7-421f-b084-39e09b879a93"
      },
      "execution_count": 136,
      "outputs": [
        {
          "output_type": "execute_result",
          "data": {
            "text/plain": [
              "array([[4.+0.j, 0.+0.j, 0.+0.j, 0.+0.j],\n",
              "       [0.+0.j, 0.+0.j, 0.+0.j, 4.+0.j],\n",
              "       [0.+0.j, 0.+0.j, 4.+0.j, 0.+0.j],\n",
              "       [0.+0.j, 4.+0.j, 0.+0.j, 0.+0.j]])"
            ]
          },
          "metadata": {},
          "execution_count": 136
        }
      ]
    },
    {
      "cell_type": "code",
      "source": [
        "# Compute the two-dimensional inverse discrete Fourier Transform\n",
        "ifft2_arr = np.fft.ifft2(fft2_arr)\n",
        "ifft2_arr"
      ],
      "metadata": {
        "colab": {
          "base_uri": "https://localhost:8080/"
        },
        "id": "tf_qtj8WZ7vd",
        "outputId": "fb800e68-688c-471d-a8e5-3d004664c4e6"
      },
      "execution_count": 137,
      "outputs": [
        {
          "output_type": "execute_result",
          "data": {
            "text/plain": [
              "array([[1.+0.j, 0.+0.j, 0.+0.j, 0.+0.j],\n",
              "       [0.+0.j, 1.+0.j, 0.+0.j, 0.+0.j],\n",
              "       [0.+0.j, 0.+0.j, 1.+0.j, 0.+0.j],\n",
              "       [0.+0.j, 0.+0.j, 0.+0.j, 1.+0.j]])"
            ]
          },
          "metadata": {},
          "execution_count": 137
        }
      ]
    },
    {
      "cell_type": "markdown",
      "source": [
        "# **6. Random Number Generation**"
      ],
      "metadata": {
        "id": "VAplXtKVfbNZ"
      }
    },
    {
      "cell_type": "code",
      "source": [
        "# Generate random floats\n",
        "random_floats = np.random.random((2, 2))\n",
        "random_floats"
      ],
      "metadata": {
        "colab": {
          "base_uri": "https://localhost:8080/"
        },
        "id": "tY34jYMofkDY",
        "outputId": "891cd469-d51f-4d09-f921-8132a9843c0c"
      },
      "execution_count": null,
      "outputs": [
        {
          "output_type": "execute_result",
          "data": {
            "text/plain": [
              "array([[0.50431659, 0.47354234],\n",
              "       [0.13086532, 0.56782472]])"
            ]
          },
          "metadata": {},
          "execution_count": 42
        }
      ]
    },
    {
      "cell_type": "code",
      "source": [
        "# Seed the random number generator\n",
        "np.random.seed(42)"
      ],
      "metadata": {
        "id": "uYBf4y6dfonM"
      },
      "execution_count": 140,
      "outputs": []
    },
    {
      "cell_type": "code",
      "source": [
        "# Generate random integers\n",
        "random_integers = np.random.randint(0, 10, (2, 2))\n",
        "random_integers"
      ],
      "metadata": {
        "colab": {
          "base_uri": "https://localhost:8080/"
        },
        "id": "nO_mBAZbfsZE",
        "outputId": "466c4f34-cdef-4937-d9ec-ca4a2679d78c"
      },
      "execution_count": null,
      "outputs": [
        {
          "output_type": "execute_result",
          "data": {
            "text/plain": [
              "array([[9, 9],\n",
              "       [6, 3]])"
            ]
          },
          "metadata": {},
          "execution_count": 44
        }
      ]
    },
    {
      "cell_type": "code",
      "source": [
        "# Generate a random sample from a given 1-D array\n",
        "random_sample = np.random.choice(arr, 2)\n",
        "random_sample"
      ],
      "metadata": {
        "colab": {
          "base_uri": "https://localhost:8080/"
        },
        "id": "-9fWO8NWaW7g",
        "outputId": "de7fd419-c396-4374-cd89-7208c46b8eb4"
      },
      "execution_count": 141,
      "outputs": [
        {
          "output_type": "execute_result",
          "data": {
            "text/plain": [
              "array([4, 5])"
            ]
          },
          "metadata": {},
          "execution_count": 141
        }
      ]
    },
    {
      "cell_type": "code",
      "source": [
        "# Randomly permute a sequence or return a permuted range\n",
        "permuted_arr = np.random.permutation(arr)\n",
        "permuted_arr"
      ],
      "metadata": {
        "colab": {
          "base_uri": "https://localhost:8080/"
        },
        "id": "EEwHzy_caZVW",
        "outputId": "9b93193c-0ace-4ce3-afbb-22973a446ed9"
      },
      "execution_count": 142,
      "outputs": [
        {
          "output_type": "execute_result",
          "data": {
            "text/plain": [
              "array([2, 5, 1, 4, 3])"
            ]
          },
          "metadata": {},
          "execution_count": 142
        }
      ]
    },
    {
      "cell_type": "code",
      "source": [
        "# Modify a sequence in place by shuffling its contents\n",
        "np.random.shuffle(arr)\n",
        "arr"
      ],
      "metadata": {
        "colab": {
          "base_uri": "https://localhost:8080/"
        },
        "id": "95FPnxNPaVrw",
        "outputId": "c94744da-2c28-40a7-ef20-e2b3496e454b"
      },
      "execution_count": 145,
      "outputs": [
        {
          "output_type": "execute_result",
          "data": {
            "text/plain": [
              "array([4, 3, 2, 1, 5])"
            ]
          },
          "metadata": {},
          "execution_count": 145
        }
      ]
    },
    {
      "cell_type": "markdown",
      "source": [
        "# **7. Statistics and Probability**"
      ],
      "metadata": {
        "id": "YNU1ljaUf5T3"
      }
    },
    {
      "cell_type": "code",
      "source": [
        "# Compute the arithmetic mean along the specified axis\n",
        "mean_value = np.mean(arr)\n",
        "mean_value"
      ],
      "metadata": {
        "colab": {
          "base_uri": "https://localhost:8080/"
        },
        "id": "KHKaSt_Dashv",
        "outputId": "bbe88cfc-fc11-492c-843b-3ee4cdd5e1c4"
      },
      "execution_count": 146,
      "outputs": [
        {
          "output_type": "execute_result",
          "data": {
            "text/plain": [
              "3.0"
            ]
          },
          "metadata": {},
          "execution_count": 146
        }
      ]
    },
    {
      "cell_type": "code",
      "source": [
        "# Compute the median\n",
        "median_value = np.median(arr)\n",
        "median_value"
      ],
      "metadata": {
        "colab": {
          "base_uri": "https://localhost:8080/"
        },
        "id": "W4xsV50mf9fx",
        "outputId": "46203274-0b2f-47d8-9a2a-daec114f98cc"
      },
      "execution_count": 41,
      "outputs": [
        {
          "output_type": "execute_result",
          "data": {
            "text/plain": [
              "3.0"
            ]
          },
          "metadata": {},
          "execution_count": 41
        }
      ]
    },
    {
      "cell_type": "code",
      "source": [
        "# Compute the standard deviation\n",
        "std_dev = np.std(arr)\n",
        "std_dev"
      ],
      "metadata": {
        "colab": {
          "base_uri": "https://localhost:8080/"
        },
        "id": "nh6pTUcwgDtR",
        "outputId": "545a24b3-d99f-496e-c3fc-afb17f36c3fe"
      },
      "execution_count": 42,
      "outputs": [
        {
          "output_type": "execute_result",
          "data": {
            "text/plain": [
              "1.4142135623730951"
            ]
          },
          "metadata": {},
          "execution_count": 42
        }
      ]
    },
    {
      "cell_type": "code",
      "source": [
        "# Compute the variance\n",
        "variance = np.var(arr)\n",
        "variance"
      ],
      "metadata": {
        "colab": {
          "base_uri": "https://localhost:8080/"
        },
        "id": "PiDGTYRFgGG_",
        "outputId": "40e01998-d2a9-4b83-f18a-7345596ae2bd"
      },
      "execution_count": 43,
      "outputs": [
        {
          "output_type": "execute_result",
          "data": {
            "text/plain": [
              "2.0"
            ]
          },
          "metadata": {},
          "execution_count": 43
        }
      ]
    },
    {
      "cell_type": "code",
      "source": [
        "# Generate a histogram of data\n",
        "hist, bin_edges = np.histogram(arr)\n",
        "print(hist)\n",
        "print(bin_edges)"
      ],
      "metadata": {
        "colab": {
          "base_uri": "https://localhost:8080/"
        },
        "id": "xhQSOR_Ffx2n",
        "outputId": "2dd004ab-c320-4548-aeb1-6fd001a0a265"
      },
      "execution_count": 44,
      "outputs": [
        {
          "output_type": "stream",
          "name": "stdout",
          "text": [
            "[1 0 1 0 0 1 0 1 0 1]\n",
            "[1.  1.4 1.8 2.2 2.6 3.  3.4 3.8 4.2 4.6 5. ]\n"
          ]
        }
      ]
    },
    {
      "cell_type": "code",
      "source": [
        "# Compute the nth percentile of the array elements\n",
        "percentile_value = np.percentile(arr, 50)\n",
        "percentile_value"
      ],
      "metadata": {
        "colab": {
          "base_uri": "https://localhost:8080/"
        },
        "id": "E6bdYdzrazbF",
        "outputId": "3bdbc910-f233-4ed8-c5e9-e6997a74f9ad"
      },
      "execution_count": 147,
      "outputs": [
        {
          "output_type": "execute_result",
          "data": {
            "text/plain": [
              "3.0"
            ]
          },
          "metadata": {},
          "execution_count": 147
        }
      ]
    },
    {
      "cell_type": "code",
      "source": [
        "# Return Pearson product-moment correlation coefficients\n",
        "corrcoef_arr = np.corrcoef(arr, arr)\n",
        "corrcoef_arr"
      ],
      "metadata": {
        "colab": {
          "base_uri": "https://localhost:8080/"
        },
        "id": "N9DVH36Za2kI",
        "outputId": "fac6cece-0581-4739-905e-b787751e1728"
      },
      "execution_count": 148,
      "outputs": [
        {
          "output_type": "execute_result",
          "data": {
            "text/plain": [
              "array([[1., 1.],\n",
              "       [1., 1.]])"
            ]
          },
          "metadata": {},
          "execution_count": 148
        }
      ]
    },
    {
      "cell_type": "code",
      "source": [
        "# Estimate a covariance matrix\n",
        "cov_arr = np.cov(arr)\n",
        "cov_arr"
      ],
      "metadata": {
        "colab": {
          "base_uri": "https://localhost:8080/"
        },
        "id": "kGDivpapayDm",
        "outputId": "33869050-521a-4f57-e386-2be7c7a6b41b"
      },
      "execution_count": 150,
      "outputs": [
        {
          "output_type": "execute_result",
          "data": {
            "text/plain": [
              "array(2.5)"
            ]
          },
          "metadata": {},
          "execution_count": 150
        }
      ]
    },
    {
      "cell_type": "markdown",
      "source": [
        "# **8. Trigonometric Functions**"
      ],
      "metadata": {
        "id": "P5u2ZO17gaqP"
      }
    },
    {
      "cell_type": "code",
      "source": [
        "# Compute the sine\n",
        "sine_values = np.sin(arr)\n",
        "sine_values"
      ],
      "metadata": {
        "colab": {
          "base_uri": "https://localhost:8080/"
        },
        "id": "LdaFcgruhwYn",
        "outputId": "cfb2d8c0-cb73-496e-8d0b-7822ab35629a"
      },
      "execution_count": null,
      "outputs": [
        {
          "output_type": "execute_result",
          "data": {
            "text/plain": [
              "array([ 0.84147098,  0.90929743,  0.14112001, -0.7568025 , -0.95892427])"
            ]
          },
          "metadata": {},
          "execution_count": 60
        }
      ]
    },
    {
      "cell_type": "code",
      "source": [
        "# Compute the cosine\n",
        "cosine_values = np.cos(arr)\n",
        "cosine_values"
      ],
      "metadata": {
        "colab": {
          "base_uri": "https://localhost:8080/"
        },
        "id": "V7wsiS4ohzKI",
        "outputId": "71018092-5cf2-480a-bfd1-9721007af6c3"
      },
      "execution_count": null,
      "outputs": [
        {
          "output_type": "execute_result",
          "data": {
            "text/plain": [
              "array([ 0.54030231, -0.41614684, -0.9899925 , -0.65364362,  0.28366219])"
            ]
          },
          "metadata": {},
          "execution_count": 61
        }
      ]
    },
    {
      "cell_type": "code",
      "source": [
        "# Compute the tangent\n",
        "tangent_values = np.tan(arr)\n",
        "tangent_values"
      ],
      "metadata": {
        "colab": {
          "base_uri": "https://localhost:8080/"
        },
        "id": "1MG9Qk7Yht0n",
        "outputId": "c7b5242c-3d17-4c0e-d486-8f04b0c70074"
      },
      "execution_count": null,
      "outputs": [
        {
          "output_type": "execute_result",
          "data": {
            "text/plain": [
              "array([ 1.55740772, -2.18503986, -0.14254654,  1.15782128, -3.38051501])"
            ]
          },
          "metadata": {},
          "execution_count": 62
        }
      ]
    },
    {
      "cell_type": "code",
      "source": [
        "# Compute the inverse sine\n",
        "arcsine_arr = np.arcsin(arr)\n",
        "arcsine_arr"
      ],
      "metadata": {
        "colab": {
          "base_uri": "https://localhost:8080/"
        },
        "id": "PDt8tudKbOiH",
        "outputId": "34fd2c58-dab2-4e9c-c9bf-857e32206bef"
      },
      "execution_count": 151,
      "outputs": [
        {
          "output_type": "stream",
          "name": "stderr",
          "text": [
            "<ipython-input-151-3f783bf95108>:2: RuntimeWarning: invalid value encountered in arcsin\n",
            "  arcsine_arr = np.arcsin(arr)\n"
          ]
        },
        {
          "output_type": "execute_result",
          "data": {
            "text/plain": [
              "array([       nan,        nan,        nan, 1.57079633,        nan])"
            ]
          },
          "metadata": {},
          "execution_count": 151
        }
      ]
    },
    {
      "cell_type": "code",
      "source": [
        "# Compute the inverse cosine\n",
        "arccosine_arr = np.arccos(arr)\n",
        "arccosine_arr"
      ],
      "metadata": {
        "colab": {
          "base_uri": "https://localhost:8080/"
        },
        "id": "h0noEC_YbSVv",
        "outputId": "7c36d393-df1b-4a9a-860b-4a24e8197763"
      },
      "execution_count": 152,
      "outputs": [
        {
          "output_type": "stream",
          "name": "stderr",
          "text": [
            "<ipython-input-152-5d5dd3604a69>:2: RuntimeWarning: invalid value encountered in arccos\n",
            "  arccosine_arr = np.arccos(arr)\n"
          ]
        },
        {
          "output_type": "execute_result",
          "data": {
            "text/plain": [
              "array([nan, nan, nan,  0., nan])"
            ]
          },
          "metadata": {},
          "execution_count": 152
        }
      ]
    },
    {
      "cell_type": "code",
      "source": [
        "# Compute the inverse tangent\n",
        "arctangent_arr = np.arctan(arr)\n",
        "arctangent_arr"
      ],
      "metadata": {
        "colab": {
          "base_uri": "https://localhost:8080/"
        },
        "id": "FVPqL6cQbUsv",
        "outputId": "bcc64544-c3ce-4a13-f898-d887a87c64a9"
      },
      "execution_count": 153,
      "outputs": [
        {
          "output_type": "execute_result",
          "data": {
            "text/plain": [
              "array([1.32581766, 1.24904577, 1.10714872, 0.78539816, 1.37340077])"
            ]
          },
          "metadata": {},
          "execution_count": 153
        }
      ]
    },
    {
      "cell_type": "code",
      "source": [
        "# Compute the element-wise arc tangent of y/x\n",
        "arctan2_arr = np.arctan2(arr, arr)\n",
        "arctan2_arr"
      ],
      "metadata": {
        "colab": {
          "base_uri": "https://localhost:8080/"
        },
        "id": "c5KJFyURbXev",
        "outputId": "18015288-e86e-43e7-8fc1-9536140a8f3d"
      },
      "execution_count": 154,
      "outputs": [
        {
          "output_type": "execute_result",
          "data": {
            "text/plain": [
              "array([0.78539816, 0.78539816, 0.78539816, 0.78539816, 0.78539816])"
            ]
          },
          "metadata": {},
          "execution_count": 154
        }
      ]
    },
    {
      "cell_type": "code",
      "source": [
        "# Compute the hyperbolic sine\n",
        "sinh_arr = np.sinh(arr)\n",
        "sinh_arr"
      ],
      "metadata": {
        "colab": {
          "base_uri": "https://localhost:8080/"
        },
        "id": "Rij7H4trbaNB",
        "outputId": "19a8d718-3715-4175-f44d-ce57481f9c93"
      },
      "execution_count": 155,
      "outputs": [
        {
          "output_type": "execute_result",
          "data": {
            "text/plain": [
              "array([27.2899172 , 10.01787493,  3.62686041,  1.17520119, 74.20321058])"
            ]
          },
          "metadata": {},
          "execution_count": 155
        }
      ]
    },
    {
      "cell_type": "code",
      "source": [
        "# Compute the hyperbolic cosine\n",
        "cosh_arr = np.cosh(arr)\n",
        "cosh_arr"
      ],
      "metadata": {
        "colab": {
          "base_uri": "https://localhost:8080/"
        },
        "id": "TP5VXRh-bdp2",
        "outputId": "d776293c-991a-4e7a-b76f-aaa8c3cff61f"
      },
      "execution_count": 156,
      "outputs": [
        {
          "output_type": "execute_result",
          "data": {
            "text/plain": [
              "array([27.30823284, 10.067662  ,  3.76219569,  1.54308063, 74.20994852])"
            ]
          },
          "metadata": {},
          "execution_count": 156
        }
      ]
    },
    {
      "cell_type": "code",
      "source": [
        "# Compute the hyperbolic tangent\n",
        "tanh_arr = np.tanh(arr)\n",
        "tanh_arr"
      ],
      "metadata": {
        "colab": {
          "base_uri": "https://localhost:8080/"
        },
        "id": "NCPiKa9Lbf5P",
        "outputId": "616f277a-a66a-4c90-ad63-d7707e3ea491"
      },
      "execution_count": 157,
      "outputs": [
        {
          "output_type": "execute_result",
          "data": {
            "text/plain": [
              "array([0.9993293 , 0.99505475, 0.96402758, 0.76159416, 0.9999092 ])"
            ]
          },
          "metadata": {},
          "execution_count": 157
        }
      ]
    },
    {
      "cell_type": "code",
      "source": [
        "# Compute the inverse hyperbolic sine\n",
        "arcsinh_arr = np.arcsinh(arr)\n",
        "arcsinh_arr"
      ],
      "metadata": {
        "colab": {
          "base_uri": "https://localhost:8080/"
        },
        "id": "3zwC5F2XbiLG",
        "outputId": "d119a6f0-c26e-4ebf-e8db-5a477365e663"
      },
      "execution_count": 158,
      "outputs": [
        {
          "output_type": "execute_result",
          "data": {
            "text/plain": [
              "array([2.09471255, 1.81844646, 1.44363548, 0.88137359, 2.31243834])"
            ]
          },
          "metadata": {},
          "execution_count": 158
        }
      ]
    },
    {
      "cell_type": "code",
      "source": [
        "# Compute the inverse hyperbolic cosine\n",
        "arccosh_arr = np.arccosh(arr)\n",
        "arccosh_arr"
      ],
      "metadata": {
        "colab": {
          "base_uri": "https://localhost:8080/"
        },
        "id": "medAIWywbkfR",
        "outputId": "556126f9-422e-4633-ccfe-3c09fd9c2ad6"
      },
      "execution_count": 160,
      "outputs": [
        {
          "output_type": "execute_result",
          "data": {
            "text/plain": [
              "array([2.06343707, 1.76274717, 1.3169579 , 0.        , 2.29243167])"
            ]
          },
          "metadata": {},
          "execution_count": 160
        }
      ]
    },
    {
      "cell_type": "code",
      "source": [
        "# Compute the inverse hyperbolic tangent\n",
        "arctanh_arr = np.arctanh(arr)\n",
        "arctanh_arr"
      ],
      "metadata": {
        "colab": {
          "base_uri": "https://localhost:8080/"
        },
        "id": "j5hYwRpObp9P",
        "outputId": "b42f6bb5-34c7-45a2-e217-8d50bed4d753"
      },
      "execution_count": 161,
      "outputs": [
        {
          "output_type": "stream",
          "name": "stderr",
          "text": [
            "<ipython-input-161-6c27f2b26f96>:2: RuntimeWarning: divide by zero encountered in arctanh\n",
            "  arctanh_arr = np.arctanh(arr)\n",
            "<ipython-input-161-6c27f2b26f96>:2: RuntimeWarning: invalid value encountered in arctanh\n",
            "  arctanh_arr = np.arctanh(arr)\n"
          ]
        },
        {
          "output_type": "execute_result",
          "data": {
            "text/plain": [
              "array([nan, nan, nan, inf, nan])"
            ]
          },
          "metadata": {},
          "execution_count": 161
        }
      ]
    },
    {
      "cell_type": "code",
      "source": [
        "# Convert degrees to radians\n",
        "radians_arr = np.deg2rad(arr)\n",
        "radians_arr"
      ],
      "metadata": {
        "colab": {
          "base_uri": "https://localhost:8080/"
        },
        "id": "8uPGa7LKbsJI",
        "outputId": "4bd94c43-b832-4571-d1c4-f3981a8fe730"
      },
      "execution_count": 162,
      "outputs": [
        {
          "output_type": "execute_result",
          "data": {
            "text/plain": [
              "array([0.06981317, 0.05235988, 0.03490659, 0.01745329, 0.08726646])"
            ]
          },
          "metadata": {},
          "execution_count": 162
        }
      ]
    },
    {
      "cell_type": "code",
      "source": [
        "# Convert radians to degrees\n",
        "degrees_arr = np.rad2deg(arr)\n",
        "degrees_arr"
      ],
      "metadata": {
        "colab": {
          "base_uri": "https://localhost:8080/"
        },
        "id": "fsPf-1NPbINt",
        "outputId": "30c047eb-aaf9-4188-a135-9d6bde54f4c2"
      },
      "execution_count": 163,
      "outputs": [
        {
          "output_type": "execute_result",
          "data": {
            "text/plain": [
              "array([229.18311805, 171.88733854, 114.59155903,  57.29577951,\n",
              "       286.47889757])"
            ]
          },
          "metadata": {},
          "execution_count": 163
        }
      ]
    },
    {
      "cell_type": "markdown",
      "source": [
        "# **9. Exponential and Logarithmic Functions**"
      ],
      "metadata": {
        "id": "WtCmeEdUgc-Z"
      }
    },
    {
      "cell_type": "code",
      "source": [
        "# Compute the exponential\n",
        "exp_values = np.exp(arr)\n",
        "exp_values"
      ],
      "metadata": {
        "colab": {
          "base_uri": "https://localhost:8080/"
        },
        "id": "AtHCeR4Jhl4x",
        "outputId": "7b3a387c-2056-4c12-9a1d-1964175c1213"
      },
      "execution_count": null,
      "outputs": [
        {
          "output_type": "execute_result",
          "data": {
            "text/plain": [
              "array([  2.71828183,   7.3890561 ,  20.08553692,  54.59815003,\n",
              "       148.4131591 ])"
            ]
          },
          "metadata": {},
          "execution_count": 57
        }
      ]
    },
    {
      "cell_type": "code",
      "source": [
        "# Compute exp(x) - 1 for all elements in the array\n",
        "expm1_arr = np.expm1(arr)\n",
        "expm1_arr"
      ],
      "metadata": {
        "colab": {
          "base_uri": "https://localhost:8080/"
        },
        "id": "AiPTWfsAb4Lr",
        "outputId": "10b7aeec-276d-4a64-bb56-721ca3e13b4d"
      },
      "execution_count": 164,
      "outputs": [
        {
          "output_type": "execute_result",
          "data": {
            "text/plain": [
              "array([ 53.59815003,  19.08553692,   6.3890561 ,   1.71828183,\n",
              "       147.4131591 ])"
            ]
          },
          "metadata": {},
          "execution_count": 164
        }
      ]
    },
    {
      "cell_type": "code",
      "source": [
        "# Compute the natural logarithm\n",
        "log_values = np.log(arr)\n",
        "log_values"
      ],
      "metadata": {
        "colab": {
          "base_uri": "https://localhost:8080/"
        },
        "id": "048GjtoVhn-s",
        "outputId": "22b21fb5-bd24-4272-b294-19d9b914465e"
      },
      "execution_count": null,
      "outputs": [
        {
          "output_type": "execute_result",
          "data": {
            "text/plain": [
              "array([0.        , 0.69314718, 1.09861229, 1.38629436, 1.60943791])"
            ]
          },
          "metadata": {},
          "execution_count": 58
        }
      ]
    },
    {
      "cell_type": "code",
      "source": [
        "# Compute the base-10 logarithm\n",
        "log10_values = np.log10(arr)\n",
        "log10_values"
      ],
      "metadata": {
        "colab": {
          "base_uri": "https://localhost:8080/"
        },
        "id": "Kn52LdPGhksI",
        "outputId": "183c6666-0620-47d2-af56-ba53d9d92288"
      },
      "execution_count": null,
      "outputs": [
        {
          "output_type": "execute_result",
          "data": {
            "text/plain": [
              "array([0.        , 0.30103   , 0.47712125, 0.60205999, 0.69897   ])"
            ]
          },
          "metadata": {},
          "execution_count": 59
        }
      ]
    },
    {
      "cell_type": "code",
      "source": [
        "# Compute the base-2 logarithm of all elements in the array\n",
        "log2_arr = np.log2(arr)\n",
        "log2_arr"
      ],
      "metadata": {
        "colab": {
          "base_uri": "https://localhost:8080/"
        },
        "id": "2i_PBl1wb8_I",
        "outputId": "ade8bc72-972b-4bb7-95c6-10699abdef94"
      },
      "execution_count": 165,
      "outputs": [
        {
          "output_type": "execute_result",
          "data": {
            "text/plain": [
              "array([2.        , 1.5849625 , 1.        , 0.        , 2.32192809])"
            ]
          },
          "metadata": {},
          "execution_count": 165
        }
      ]
    },
    {
      "cell_type": "code",
      "source": [
        "# Compute log(1 + x) for all elements in the array\n",
        "log1p_arr = np.log1p(arr)\n",
        "log1p_arr"
      ],
      "metadata": {
        "colab": {
          "base_uri": "https://localhost:8080/"
        },
        "id": "MtVpa5NYb8CH",
        "outputId": "3996d726-c452-427c-bc6c-39e6aef587dc"
      },
      "execution_count": 166,
      "outputs": [
        {
          "output_type": "execute_result",
          "data": {
            "text/plain": [
              "array([1.60943791, 1.38629436, 1.09861229, 0.69314718, 1.79175947])"
            ]
          },
          "metadata": {},
          "execution_count": 166
        }
      ]
    },
    {
      "cell_type": "markdown",
      "source": [
        "# **10. Miscellaneous**"
      ],
      "metadata": {
        "id": "kLkJ1aP8gnZp"
      }
    },
    {
      "cell_type": "code",
      "source": [
        "# Copy an array\n",
        "copied_arr = np.copy(arr)\n",
        "copied_arr"
      ],
      "metadata": {
        "colab": {
          "base_uri": "https://localhost:8080/"
        },
        "id": "sCdlSXqJhVLU",
        "outputId": "744b70ce-e5d8-40cc-caa0-4f6cc77eb36b"
      },
      "execution_count": null,
      "outputs": [
        {
          "output_type": "execute_result",
          "data": {
            "text/plain": [
              "array([1, 2, 3, 4, 5])"
            ]
          },
          "metadata": {},
          "execution_count": 54
        }
      ]
    },
    {
      "cell_type": "code",
      "source": [
        "# Find the unique elements of an array\n",
        "unique_elements = np.unique(arr)\n",
        "unique_elements"
      ],
      "metadata": {
        "colab": {
          "base_uri": "https://localhost:8080/"
        },
        "id": "IFZ136hGhXlK",
        "outputId": "40eb5fd7-692c-495e-fe21-bf5a5eea4528"
      },
      "execution_count": null,
      "outputs": [
        {
          "output_type": "execute_result",
          "data": {
            "text/plain": [
              "array([1, 2, 3, 4, 5])"
            ]
          },
          "metadata": {},
          "execution_count": 55
        }
      ]
    },
    {
      "cell_type": "code",
      "source": [
        "# Test for NaN values\n",
        "nan_check = np.isnan(arr)\n",
        "nan_check"
      ],
      "metadata": {
        "colab": {
          "base_uri": "https://localhost:8080/"
        },
        "id": "D36YS_TGhT5H",
        "outputId": "497ece79-76de-427c-fd5f-dce30c9fc199"
      },
      "execution_count": null,
      "outputs": [
        {
          "output_type": "execute_result",
          "data": {
            "text/plain": [
              "array([False, False, False, False, False])"
            ]
          },
          "metadata": {},
          "execution_count": 56
        }
      ]
    },
    {
      "cell_type": "code",
      "source": [
        "# Test element-wise for finiteness\n",
        "is_finite = np.isfinite(arr)\n",
        "is_finite"
      ],
      "metadata": {
        "colab": {
          "base_uri": "https://localhost:8080/"
        },
        "id": "zPtijqOKcWB_",
        "outputId": "017ad7cf-8e4e-48a9-ff30-f13a83622596"
      },
      "execution_count": 167,
      "outputs": [
        {
          "output_type": "execute_result",
          "data": {
            "text/plain": [
              "array([ True,  True,  True,  True,  True])"
            ]
          },
          "metadata": {},
          "execution_count": 167
        }
      ]
    },
    {
      "cell_type": "code",
      "source": [
        "# Test element-wise for infinity\n",
        "is_infinite = np.isinf(arr)\n",
        "is_infinite"
      ],
      "metadata": {
        "colab": {
          "base_uri": "https://localhost:8080/"
        },
        "id": "OgTZ-bEScY_n",
        "outputId": "6cdf9ca6-2086-4efc-b90c-3d600509c8c2"
      },
      "execution_count": 168,
      "outputs": [
        {
          "output_type": "execute_result",
          "data": {
            "text/plain": [
              "array([False, False, False, False, False])"
            ]
          },
          "metadata": {},
          "execution_count": 168
        }
      ]
    },
    {
      "cell_type": "code",
      "source": [
        "# Test element-wise for NaN\n",
        "is_nan = np.isnan(arr)\n",
        "is_nan"
      ],
      "metadata": {
        "colab": {
          "base_uri": "https://localhost:8080/"
        },
        "id": "fDUkozwlccV-",
        "outputId": "ed8105e1-1bdb-4812-d523-051044ed987c"
      },
      "execution_count": 169,
      "outputs": [
        {
          "output_type": "execute_result",
          "data": {
            "text/plain": [
              "array([False, False, False, False, False])"
            ]
          },
          "metadata": {},
          "execution_count": 169
        }
      ]
    },
    {
      "cell_type": "code",
      "source": [
        "# Return a new array with the same shape and type as a given array, without initializing entries\n",
        "empty_like_arr = np.empty_like(arr)\n",
        "empty_like_arr"
      ],
      "metadata": {
        "colab": {
          "base_uri": "https://localhost:8080/"
        },
        "id": "P3sohOi5cfuW",
        "outputId": "c0e44fe5-bc58-4633-bf7b-e86927cd1a59"
      },
      "execution_count": 170,
      "outputs": [
        {
          "output_type": "execute_result",
          "data": {
            "text/plain": [
              "array([4609927083155361075, 4608922133940812271, 4607626529066517258,\n",
              "       4604418534313441775, 4610748186450599938])"
            ]
          },
          "metadata": {},
          "execution_count": 170
        }
      ]
    },
    {
      "cell_type": "code",
      "source": [
        "# Return an array of zeros with the same shape and type as a given array\n",
        "zeros_like_arr = np.zeros_like(arr)\n",
        "zeros_like_arr"
      ],
      "metadata": {
        "colab": {
          "base_uri": "https://localhost:8080/"
        },
        "id": "taMGnrIRcjJW",
        "outputId": "5e2b0a4d-e52b-4e40-dd19-889d09b145e3"
      },
      "execution_count": 171,
      "outputs": [
        {
          "output_type": "execute_result",
          "data": {
            "text/plain": [
              "array([0, 0, 0, 0, 0])"
            ]
          },
          "metadata": {},
          "execution_count": 171
        }
      ]
    },
    {
      "cell_type": "code",
      "source": [
        "# Return an array of ones with the same shape and type as a given array\n",
        "ones_like_arr = np.ones_like(arr)\n",
        "ones_like_arr"
      ],
      "metadata": {
        "colab": {
          "base_uri": "https://localhost:8080/"
        },
        "id": "uqitLPILcU2w",
        "outputId": "9b5b5f3e-ef9c-487a-caec-0cdffe32d0a9"
      },
      "execution_count": 172,
      "outputs": [
        {
          "output_type": "execute_result",
          "data": {
            "text/plain": [
              "array([1, 1, 1, 1, 1])"
            ]
          },
          "metadata": {},
          "execution_count": 172
        }
      ]
    },
    {
      "cell_type": "markdown",
      "source": [
        "# **11. Input/Output**"
      ],
      "metadata": {
        "id": "fVSveZGrgnTB"
      }
    },
    {
      "cell_type": "code",
      "source": [
        "# Save and load arrays from text files\n",
        "np.savetxt(\"array.txt\", arr)\n",
        "loaded_arr = np.loadtxt(\"array.txt\")\n",
        "loaded_arr"
      ],
      "metadata": {
        "id": "urbkyk4ThLA3",
        "colab": {
          "base_uri": "https://localhost:8080/"
        },
        "outputId": "ef681db3-da12-4aeb-baf9-1c6e84dd468f"
      },
      "execution_count": 179,
      "outputs": [
        {
          "output_type": "execute_result",
          "data": {
            "text/plain": [
              "array([4., 3., 2., 1., 5.])"
            ]
          },
          "metadata": {},
          "execution_count": 179
        }
      ]
    },
    {
      "cell_type": "code",
      "source": [
        "# Save and load arrays from binary files\n",
        "np.save(\"array.npy\", arr)\n",
        "loaded_binary_arr = np.load(\"array.npy\")\n",
        "loaded_binary_arr"
      ],
      "metadata": {
        "colab": {
          "base_uri": "https://localhost:8080/"
        },
        "id": "X-czEf-ghJvv",
        "outputId": "614f9d1b-3ff3-4bf9-fe24-c98b8f416ef0"
      },
      "execution_count": 180,
      "outputs": [
        {
          "output_type": "execute_result",
          "data": {
            "text/plain": [
              "array([4, 3, 2, 1, 5])"
            ]
          },
          "metadata": {},
          "execution_count": 180
        }
      ]
    },
    {
      "cell_type": "code",
      "source": [
        "# Save several arrays into a single .npz file\n",
        "np.savez(\"arrays.npz\", arr1=arr, arr2=arr)\n",
        "loaded_npz = np.load(\"arrays.npz\")\n",
        "arr1 = loaded_npz['arr1']\n",
        "arr2 = loaded_npz['arr2']\n",
        "print(arr1)\n",
        "print(arr2)"
      ],
      "metadata": {
        "colab": {
          "base_uri": "https://localhost:8080/"
        },
        "id": "C9K9GILMdERP",
        "outputId": "c15be00d-7ffd-40cd-ed53-2f8bedbc70ad"
      },
      "execution_count": 181,
      "outputs": [
        {
          "output_type": "stream",
          "name": "stdout",
          "text": [
            "[4 3 2 1 5]\n",
            "[4 3 2 1 5]\n"
          ]
        }
      ]
    },
    {
      "cell_type": "code",
      "source": [
        "# Load data from a text file with missing values handled as specified\n",
        "data = np.genfromtxt(\"array.txt\", delimiter=',')\n",
        "data"
      ],
      "metadata": {
        "colab": {
          "base_uri": "https://localhost:8080/"
        },
        "id": "EbSlif2WdJ3u",
        "outputId": "a9016ccf-3427-4a31-fe4c-22b6f503f6e8"
      },
      "execution_count": 183,
      "outputs": [
        {
          "output_type": "execute_result",
          "data": {
            "text/plain": [
              "array([4., 3., 2., 1., 5.])"
            ]
          },
          "metadata": {},
          "execution_count": 183
        }
      ]
    },
    {
      "cell_type": "markdown",
      "source": [
        "# **12. Date and Time Functions**"
      ],
      "metadata": {
        "id": "s8NgdGVpg0E_"
      }
    },
    {
      "cell_type": "code",
      "source": [
        "# Create datetime arrays\n",
        "dates = np.array(['2021-01-01', '2022-01-01'], dtype='datetime64')\n",
        "dates"
      ],
      "metadata": {
        "colab": {
          "base_uri": "https://localhost:8080/"
        },
        "id": "MeqnEgzTgLz4",
        "outputId": "7dd24647-d48f-44ad-c04d-71d860f35c94"
      },
      "execution_count": 175,
      "outputs": [
        {
          "output_type": "execute_result",
          "data": {
            "text/plain": [
              "array(['2021-01-01', '2022-01-01'], dtype='datetime64[D]')"
            ]
          },
          "metadata": {},
          "execution_count": 175
        }
      ]
    },
    {
      "cell_type": "code",
      "source": [
        "# Create an array of time differences\n",
        "time_deltas = np.array([1, 2], dtype='timedelta64[D]')\n",
        "time_deltas"
      ],
      "metadata": {
        "colab": {
          "base_uri": "https://localhost:8080/"
        },
        "id": "zPVFAzrectbK",
        "outputId": "b8f6a303-45c6-4c7b-e5f7-9541dd0e4724"
      },
      "execution_count": 176,
      "outputs": [
        {
          "output_type": "execute_result",
          "data": {
            "text/plain": [
              "array([1, 2], dtype='timedelta64[D]')"
            ]
          },
          "metadata": {},
          "execution_count": 176
        }
      ]
    },
    {
      "cell_type": "code",
      "source": [
        "# Convert datetime64 to string\n",
        "date_strings = np.datetime_as_string(dates)\n",
        "date_strings"
      ],
      "metadata": {
        "colab": {
          "base_uri": "https://localhost:8080/"
        },
        "id": "ZZ0kPZPQcsSh",
        "outputId": "a1359937-63ee-4537-8e7f-ae9fe264f7d0"
      },
      "execution_count": 177,
      "outputs": [
        {
          "output_type": "execute_result",
          "data": {
            "text/plain": [
              "array(['2021-01-01', '2022-01-01'], dtype='<U28')"
            ]
          },
          "metadata": {},
          "execution_count": 177
        }
      ]
    },
    {
      "cell_type": "markdown",
      "source": [
        "# **13. Other Mathematical Functions**"
      ],
      "metadata": {
        "id": "grcx5kkTdx2P"
      }
    },
    {
      "cell_type": "code",
      "source": [
        "# Compute the square root of all elements in the array\n",
        "sqrt_arr = np.sqrt(arr)\n",
        "sqrt_arr"
      ],
      "metadata": {
        "colab": {
          "base_uri": "https://localhost:8080/"
        },
        "id": "0vmJPed9eSlw",
        "outputId": "ee3a0aef-6070-46ba-a0f8-8301bc8cf1c2"
      },
      "execution_count": 190,
      "outputs": [
        {
          "output_type": "execute_result",
          "data": {
            "text/plain": [
              "array([2.        , 1.73205081, 1.41421356, 1.        , 2.23606798])"
            ]
          },
          "metadata": {},
          "execution_count": 190
        }
      ]
    },
    {
      "cell_type": "code",
      "source": [
        "# Compute the square of all elements in the array\n",
        "square_arr = np.square(arr)\n",
        "square_arr"
      ],
      "metadata": {
        "colab": {
          "base_uri": "https://localhost:8080/"
        },
        "id": "Y216xPB2eU-3",
        "outputId": "03797bc2-f218-46a2-c9a9-a32e1a1fd435"
      },
      "execution_count": 191,
      "outputs": [
        {
          "output_type": "execute_result",
          "data": {
            "text/plain": [
              "array([16,  9,  4,  1, 25])"
            ]
          },
          "metadata": {},
          "execution_count": 191
        }
      ]
    },
    {
      "cell_type": "code",
      "source": [
        "# Compute the absolute value element-wise\n",
        "absolute_arr = np.absolute(arr)\n",
        "absolute_arr"
      ],
      "metadata": {
        "colab": {
          "base_uri": "https://localhost:8080/"
        },
        "id": "n_mV0cE2eXIH",
        "outputId": "407289f3-fd4c-4500-dddd-b2a5e9011e07"
      },
      "execution_count": 192,
      "outputs": [
        {
          "output_type": "execute_result",
          "data": {
            "text/plain": [
              "array([4, 3, 2, 1, 5])"
            ]
          },
          "metadata": {},
          "execution_count": 192
        }
      ]
    },
    {
      "cell_type": "code",
      "source": [
        "# Returns an element-wise indication of the sign of a number\n",
        "sign_arr = np.sign(arr)\n",
        "sign_arr"
      ],
      "metadata": {
        "colab": {
          "base_uri": "https://localhost:8080/"
        },
        "id": "Tbs6eHZJeZEC",
        "outputId": "0847b0ad-e07e-44e4-cdba-7d86fc093883"
      },
      "execution_count": 193,
      "outputs": [
        {
          "output_type": "execute_result",
          "data": {
            "text/plain": [
              "array([1, 1, 1, 1, 1])"
            ]
          },
          "metadata": {},
          "execution_count": 193
        }
      ]
    },
    {
      "cell_type": "code",
      "source": [
        "# Return the ceiling of the input, element-wise\n",
        "ceil_arr = np.ceil(arr)\n",
        "ceil_arr"
      ],
      "metadata": {
        "colab": {
          "base_uri": "https://localhost:8080/"
        },
        "id": "X9A6FXagec1i",
        "outputId": "3ec21b9c-589c-4711-9f9b-3d0a00eb176a"
      },
      "execution_count": 194,
      "outputs": [
        {
          "output_type": "execute_result",
          "data": {
            "text/plain": [
              "array([4., 3., 2., 1., 5.])"
            ]
          },
          "metadata": {},
          "execution_count": 194
        }
      ]
    },
    {
      "cell_type": "code",
      "source": [
        "# Return the floor of the input, element-wise\n",
        "floor_arr = np.floor(arr)\n",
        "floor_arr"
      ],
      "metadata": {
        "colab": {
          "base_uri": "https://localhost:8080/"
        },
        "id": "pcpKHnYRehg9",
        "outputId": "91222b40-6015-45c9-8a9a-9a96c69b8ec8"
      },
      "execution_count": 195,
      "outputs": [
        {
          "output_type": "execute_result",
          "data": {
            "text/plain": [
              "array([4., 3., 2., 1., 5.])"
            ]
          },
          "metadata": {},
          "execution_count": 195
        }
      ]
    },
    {
      "cell_type": "code",
      "source": [
        "# Round elements of the array to the nearest integer\n",
        "round_arr = np.round(arr)\n",
        "round_arr"
      ],
      "metadata": {
        "colab": {
          "base_uri": "https://localhost:8080/"
        },
        "id": "87PYHFNYejXD",
        "outputId": "cf1b3caf-34f0-4c4a-be33-ad5663b0cc7e"
      },
      "execution_count": 196,
      "outputs": [
        {
          "output_type": "execute_result",
          "data": {
            "text/plain": [
              "array([4, 3, 2, 1, 5])"
            ]
          },
          "metadata": {},
          "execution_count": 196
        }
      ]
    },
    {
      "cell_type": "code",
      "source": [
        "# Round elements to the nearest integer, returning the result as a float\n",
        "rint_arr = np.rint(arr)\n",
        "rint_arr"
      ],
      "metadata": {
        "colab": {
          "base_uri": "https://localhost:8080/"
        },
        "id": "AF7DemVDelVL",
        "outputId": "aa2a3b2b-95d5-4fc4-a9df-10d8e5d82a75"
      },
      "execution_count": 197,
      "outputs": [
        {
          "output_type": "execute_result",
          "data": {
            "text/plain": [
              "array([4., 3., 2., 1., 5.])"
            ]
          },
          "metadata": {},
          "execution_count": 197
        }
      ]
    },
    {
      "cell_type": "code",
      "source": [
        "# Element-wise remainder of division\n",
        "mod_arr = np.mod(arr, 2)\n",
        "mod_arr"
      ],
      "metadata": {
        "colab": {
          "base_uri": "https://localhost:8080/"
        },
        "id": "_J9BaB2-enar",
        "outputId": "b2171f39-00cc-4d56-d629-13a24dc430e0"
      },
      "execution_count": 198,
      "outputs": [
        {
          "output_type": "execute_result",
          "data": {
            "text/plain": [
              "array([0, 1, 0, 1, 1])"
            ]
          },
          "metadata": {},
          "execution_count": 198
        }
      ]
    },
    {
      "cell_type": "code",
      "source": [
        "# Clip (limit) the values in an array\n",
        "clipped_arr = np.clip(arr, 1, 3)\n",
        "clipped_arr"
      ],
      "metadata": {
        "colab": {
          "base_uri": "https://localhost:8080/"
        },
        "id": "xWcDdpNzd_-J",
        "outputId": "675f5363-65b5-42b3-c01f-544d0ce8ee69"
      },
      "execution_count": 199,
      "outputs": [
        {
          "output_type": "execute_result",
          "data": {
            "text/plain": [
              "array([3, 3, 2, 1, 3])"
            ]
          },
          "metadata": {},
          "execution_count": 199
        }
      ]
    },
    {
      "cell_type": "markdown",
      "source": [
        "# **14. Logical Operations**"
      ],
      "metadata": {
        "id": "hoQKONxOeyuA"
      }
    },
    {
      "cell_type": "code",
      "source": [
        "# Test whether all array elements evaluate to True\n",
        "all_true = np.all(arr > 0)\n",
        "all_true"
      ],
      "metadata": {
        "colab": {
          "base_uri": "https://localhost:8080/"
        },
        "id": "cpCTzYm2e6YJ",
        "outputId": "3e4b5591-2a16-4a21-c2af-3a3e9e1b39b0"
      },
      "execution_count": 200,
      "outputs": [
        {
          "output_type": "execute_result",
          "data": {
            "text/plain": [
              "True"
            ]
          },
          "metadata": {},
          "execution_count": 200
        }
      ]
    },
    {
      "cell_type": "code",
      "source": [
        "# Test whether any array element evaluates to True\n",
        "any_true = np.any(arr > 0)\n",
        "any_true"
      ],
      "metadata": {
        "colab": {
          "base_uri": "https://localhost:8080/"
        },
        "id": "Fxz9C2jRe8fo",
        "outputId": "6e62f005-9265-414b-ec9f-deccfa93517d"
      },
      "execution_count": 201,
      "outputs": [
        {
          "output_type": "execute_result",
          "data": {
            "text/plain": [
              "True"
            ]
          },
          "metadata": {},
          "execution_count": 201
        }
      ]
    },
    {
      "cell_type": "code",
      "source": [
        "# Compute the element-wise logical AND\n",
        "logical_and_arr = np.logical_and(arr > 0, arr < 3)\n",
        "logical_and_arr"
      ],
      "metadata": {
        "colab": {
          "base_uri": "https://localhost:8080/"
        },
        "id": "7vZLIYHSe-9G",
        "outputId": "ec6e95a7-2421-4830-c852-2de7afe8f462"
      },
      "execution_count": 202,
      "outputs": [
        {
          "output_type": "execute_result",
          "data": {
            "text/plain": [
              "array([False, False,  True,  True, False])"
            ]
          },
          "metadata": {},
          "execution_count": 202
        }
      ]
    },
    {
      "cell_type": "code",
      "source": [
        "# Compute the element-wise logical OR\n",
        "logical_or_arr = np.logical_or(arr > 0, arr < 3)\n",
        "logical_or_arr"
      ],
      "metadata": {
        "colab": {
          "base_uri": "https://localhost:8080/"
        },
        "id": "w9_yR6LcfB2H",
        "outputId": "8a2e0f8a-e3fc-4197-938c-68dac0a6b91a"
      },
      "execution_count": 203,
      "outputs": [
        {
          "output_type": "execute_result",
          "data": {
            "text/plain": [
              "array([ True,  True,  True,  True,  True])"
            ]
          },
          "metadata": {},
          "execution_count": 203
        }
      ]
    },
    {
      "cell_type": "code",
      "source": [
        "# Compute the element-wise logical NOT\n",
        "logical_not_arr = np.logical_not(arr > 0)\n",
        "logical_not_arr"
      ],
      "metadata": {
        "colab": {
          "base_uri": "https://localhost:8080/"
        },
        "id": "2n9faOVRfEVA",
        "outputId": "a427ec16-c230-494d-87be-922303767418"
      },
      "execution_count": 204,
      "outputs": [
        {
          "output_type": "execute_result",
          "data": {
            "text/plain": [
              "array([False, False, False, False, False])"
            ]
          },
          "metadata": {},
          "execution_count": 204
        }
      ]
    },
    {
      "cell_type": "code",
      "source": [
        "# Compute the element-wise logical XOR\n",
        "logical_xor_arr = np.logical_xor(arr > 0, arr < 3)\n",
        "logical_xor_arr"
      ],
      "metadata": {
        "colab": {
          "base_uri": "https://localhost:8080/"
        },
        "id": "0qf5a94cfH-4",
        "outputId": "866df9c7-c021-4f26-914f-ee9aebc92d9a"
      },
      "execution_count": 206,
      "outputs": [
        {
          "output_type": "execute_result",
          "data": {
            "text/plain": [
              "array([ True,  True, False, False,  True])"
            ]
          },
          "metadata": {},
          "execution_count": 206
        }
      ]
    },
    {
      "cell_type": "code",
      "source": [
        "# Return elements chosen from x or y depending on condition\n",
        "where_arr = np.where(arr > 2, arr, -1)\n",
        "where_arr"
      ],
      "metadata": {
        "colab": {
          "base_uri": "https://localhost:8080/"
        },
        "id": "Npikhr_afKgc",
        "outputId": "dfcfe35c-4ea0-4311-cdfa-ce21fa0d8a6e"
      },
      "execution_count": 207,
      "outputs": [
        {
          "output_type": "execute_result",
          "data": {
            "text/plain": [
              "array([ 4,  3, -1, -1,  5])"
            ]
          },
          "metadata": {},
          "execution_count": 207
        }
      ]
    },
    {
      "cell_type": "code",
      "source": [
        "# Return an array drawn from elements in choices based on conditions\n",
        "conditions = [arr < 1, arr > 2]\n",
        "choices = [0, 10]\n",
        "select_arr = np.select(conditions, choices, default=-1)\n",
        "select_arr"
      ],
      "metadata": {
        "colab": {
          "base_uri": "https://localhost:8080/"
        },
        "id": "ebXLQ919eqq6",
        "outputId": "3bbb2b4e-8dc4-49ec-8bd4-ae083ba5022c"
      },
      "execution_count": 208,
      "outputs": [
        {
          "output_type": "execute_result",
          "data": {
            "text/plain": [
              "array([10, 10, -1, -1, 10])"
            ]
          },
          "metadata": {},
          "execution_count": 208
        }
      ]
    }
  ]
}