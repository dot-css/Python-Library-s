{
  "nbformat": 4,
  "nbformat_minor": 0,
  "metadata": {
    "colab": {
      "provenance": []
    },
    "kernelspec": {
      "name": "python3",
      "display_name": "Python 3"
    },
    "language_info": {
      "name": "python"
    }
  },
  "cells": [
    {
      "cell_type": "markdown",
      "source": [
        "# **1. Array Creation**"
      ],
      "metadata": {
        "id": "awQj3ZDHbR4w"
      }
    },
    {
      "cell_type": "code",
      "execution_count": 1,
      "metadata": {
        "id": "t95yUhqcbB5L"
      },
      "outputs": [],
      "source": [
        "import numpy as np"
      ]
    },
    {
      "cell_type": "code",
      "source": [
        "# Create an array\n",
        "arr = np.array([1, 2, 3, 4, 5])\n",
        "arr"
      ],
      "metadata": {
        "colab": {
          "base_uri": "https://localhost:8080/"
        },
        "id": "IpCCFRX9bk6z",
        "outputId": "8391cd01-785e-4f38-a937-9bb051cbde83"
      },
      "execution_count": 6,
      "outputs": [
        {
          "output_type": "execute_result",
          "data": {
            "text/plain": [
              "array([1, 2, 3, 4, 5])"
            ]
          },
          "metadata": {},
          "execution_count": 6
        }
      ]
    },
    {
      "cell_type": "code",
      "source": [
        "# Create an array filled with zeros\n",
        "zeros_arr = np.zeros((3, 3))\n",
        "zeros_arr"
      ],
      "metadata": {
        "colab": {
          "base_uri": "https://localhost:8080/"
        },
        "id": "8vs1PkwZbm07",
        "outputId": "75ce2814-09da-4875-90dc-91b21b8a61e0"
      },
      "execution_count": 5,
      "outputs": [
        {
          "output_type": "execute_result",
          "data": {
            "text/plain": [
              "array([[0., 0., 0.],\n",
              "       [0., 0., 0.],\n",
              "       [0., 0., 0.]])"
            ]
          },
          "metadata": {},
          "execution_count": 5
        }
      ]
    },
    {
      "cell_type": "code",
      "source": [
        "# Create an array filled with ones\n",
        "ones_arr = np.ones((2, 4))\n",
        "ones_arr"
      ],
      "metadata": {
        "colab": {
          "base_uri": "https://localhost:8080/"
        },
        "id": "ozuNUVmib8N3",
        "outputId": "36a6e86b-22b7-4862-e9e1-bc45b8fea5d7"
      },
      "execution_count": 7,
      "outputs": [
        {
          "output_type": "execute_result",
          "data": {
            "text/plain": [
              "array([[1., 1., 1., 1.],\n",
              "       [1., 1., 1., 1.]])"
            ]
          },
          "metadata": {},
          "execution_count": 7
        }
      ]
    },
    {
      "cell_type": "code",
      "source": [
        "# Create an array filled with a specific value\n",
        "full_arr = np.full((2, 3), 7)\n",
        "full_arr"
      ],
      "metadata": {
        "colab": {
          "base_uri": "https://localhost:8080/"
        },
        "id": "14FRnz2scBBP",
        "outputId": "d0632a62-466c-4e35-99aa-2053e53766d4"
      },
      "execution_count": 8,
      "outputs": [
        {
          "output_type": "execute_result",
          "data": {
            "text/plain": [
              "array([[7, 7, 7],\n",
              "       [7, 7, 7]])"
            ]
          },
          "metadata": {},
          "execution_count": 8
        }
      ]
    },
    {
      "cell_type": "code",
      "source": [
        "# Create an identity matrix\n",
        "identity_matrix = np.eye(4)\n",
        "identity_matrix"
      ],
      "metadata": {
        "colab": {
          "base_uri": "https://localhost:8080/"
        },
        "id": "KbuYAye6cHi4",
        "outputId": "1e645c9b-3d79-4aac-cf64-7e60495d196c"
      },
      "execution_count": 9,
      "outputs": [
        {
          "output_type": "execute_result",
          "data": {
            "text/plain": [
              "array([[1., 0., 0., 0.],\n",
              "       [0., 1., 0., 0.],\n",
              "       [0., 0., 1., 0.],\n",
              "       [0., 0., 0., 1.]])"
            ]
          },
          "metadata": {},
          "execution_count": 9
        }
      ]
    },
    {
      "cell_type": "code",
      "source": [
        "# Create an array with evenly spaced values within a given range\n",
        "range_arr = np.arange(0, 10, 2)\n",
        "range_arr"
      ],
      "metadata": {
        "colab": {
          "base_uri": "https://localhost:8080/"
        },
        "id": "T61Opr56cP4A",
        "outputId": "19dcedcf-602e-40e7-aeb9-31c431b77a23"
      },
      "execution_count": 11,
      "outputs": [
        {
          "output_type": "execute_result",
          "data": {
            "text/plain": [
              "array([0, 2, 4, 6, 8])"
            ]
          },
          "metadata": {},
          "execution_count": 11
        }
      ]
    },
    {
      "cell_type": "code",
      "source": [
        "# Create an array with evenly spaced numbers over a specified interval\n",
        "linspace_arr = np.linspace(0, 1, 5)\n",
        "linspace_arr"
      ],
      "metadata": {
        "colab": {
          "base_uri": "https://localhost:8080/"
        },
        "id": "FBCMP5PecTxn",
        "outputId": "4e93dfc4-3267-414f-af9f-c7b78b1a77fa"
      },
      "execution_count": 12,
      "outputs": [
        {
          "output_type": "execute_result",
          "data": {
            "text/plain": [
              "array([0.  , 0.25, 0.5 , 0.75, 1.  ])"
            ]
          },
          "metadata": {},
          "execution_count": 12
        }
      ]
    },
    {
      "cell_type": "code",
      "source": [
        "# Create an array with values that are logarithmically spaced\n",
        "logspace_arr = np.logspace(0, 3, 4)\n",
        "logspace_arr"
      ],
      "metadata": {
        "colab": {
          "base_uri": "https://localhost:8080/"
        },
        "id": "FGANvZIQboxZ",
        "outputId": "fa80678d-9477-4721-8e6f-5318a7a0faca"
      },
      "execution_count": 13,
      "outputs": [
        {
          "output_type": "execute_result",
          "data": {
            "text/plain": [
              "array([   1.,   10.,  100., 1000.])"
            ]
          },
          "metadata": {},
          "execution_count": 13
        }
      ]
    },
    {
      "cell_type": "markdown",
      "source": [
        "# **2. Array Manipulation**"
      ],
      "metadata": {
        "id": "BjZbCrZUcceo"
      }
    },
    {
      "cell_type": "code",
      "source": [
        "# Reshape the array\n",
        "reshaped_arr = arr.reshape((5, 1))\n",
        "reshaped_arr"
      ],
      "metadata": {
        "colab": {
          "base_uri": "https://localhost:8080/"
        },
        "id": "uNg59nE6cr4Q",
        "outputId": "58c5aca3-7563-4ff5-b688-88bca9115e48"
      },
      "execution_count": 14,
      "outputs": [
        {
          "output_type": "execute_result",
          "data": {
            "text/plain": [
              "array([[1],\n",
              "       [2],\n",
              "       [3],\n",
              "       [4],\n",
              "       [5]])"
            ]
          },
          "metadata": {},
          "execution_count": 14
        }
      ]
    },
    {
      "cell_type": "code",
      "source": [
        "# Flatten the array\n",
        "flattened_arr = reshaped_arr.ravel()\n",
        "flattened_arr"
      ],
      "metadata": {
        "colab": {
          "base_uri": "https://localhost:8080/"
        },
        "id": "7dQuGgl0cwCo",
        "outputId": "5d98445c-c8a7-41e3-fdc5-a70247776fb3"
      },
      "execution_count": 15,
      "outputs": [
        {
          "output_type": "execute_result",
          "data": {
            "text/plain": [
              "array([1, 2, 3, 4, 5])"
            ]
          },
          "metadata": {},
          "execution_count": 15
        }
      ]
    },
    {
      "cell_type": "code",
      "source": [
        "# Transpose the array\n",
        "transposed_arr = np.transpose(reshaped_arr)\n",
        "transposed_arr"
      ],
      "metadata": {
        "colab": {
          "base_uri": "https://localhost:8080/"
        },
        "id": "r2fATtQyc0q_",
        "outputId": "81538e9c-218a-42b8-d736-1dfa73703017"
      },
      "execution_count": 16,
      "outputs": [
        {
          "output_type": "execute_result",
          "data": {
            "text/plain": [
              "array([[1, 2, 3, 4, 5]])"
            ]
          },
          "metadata": {},
          "execution_count": 16
        }
      ]
    },
    {
      "cell_type": "code",
      "source": [
        "# Concatenate two arrays\n",
        "concatenated_arr = np.concatenate((arr, arr))\n",
        "concatenated_arr"
      ],
      "metadata": {
        "colab": {
          "base_uri": "https://localhost:8080/"
        },
        "id": "yeTnxSXvc72p",
        "outputId": "9c372a82-539e-4b7d-8559-df25f8308445"
      },
      "execution_count": 17,
      "outputs": [
        {
          "output_type": "execute_result",
          "data": {
            "text/plain": [
              "array([1, 2, 3, 4, 5, 1, 2, 3, 4, 5])"
            ]
          },
          "metadata": {},
          "execution_count": 17
        }
      ]
    },
    {
      "cell_type": "code",
      "source": [
        "# Stack arrays along a new axis\n",
        "stacked_arr = np.stack((arr, arr))\n",
        "stacked_arr"
      ],
      "metadata": {
        "colab": {
          "base_uri": "https://localhost:8080/"
        },
        "id": "UJH1Z0cndANQ",
        "outputId": "15601e13-f74e-4d63-e7f2-d7e7b110abea"
      },
      "execution_count": 18,
      "outputs": [
        {
          "output_type": "execute_result",
          "data": {
            "text/plain": [
              "array([[1, 2, 3, 4, 5],\n",
              "       [1, 2, 3, 4, 5]])"
            ]
          },
          "metadata": {},
          "execution_count": 18
        }
      ]
    },
    {
      "cell_type": "code",
      "source": [
        "# Split the array into multiple sub-arrays\n",
        "split_arr = np.split(arr, 5)\n",
        "split_arr"
      ],
      "metadata": {
        "colab": {
          "base_uri": "https://localhost:8080/"
        },
        "id": "IU64CINHdHy3",
        "outputId": "a25aa8da-b384-40af-9108-5d8809418b6c"
      },
      "execution_count": 19,
      "outputs": [
        {
          "output_type": "execute_result",
          "data": {
            "text/plain": [
              "[array([1]), array([2]), array([3]), array([4]), array([5])]"
            ]
          },
          "metadata": {},
          "execution_count": 19
        }
      ]
    },
    {
      "cell_type": "code",
      "source": [
        "# Expand dimensions\n",
        "expanded_arr = np.expand_dims(arr, axis=1)\n",
        "expanded_arr"
      ],
      "metadata": {
        "colab": {
          "base_uri": "https://localhost:8080/"
        },
        "id": "McDdcJq_dKkf",
        "outputId": "6bfb0b79-4071-4b60-98d4-6b722d02333f"
      },
      "execution_count": 20,
      "outputs": [
        {
          "output_type": "execute_result",
          "data": {
            "text/plain": [
              "array([[1],\n",
              "       [2],\n",
              "       [3],\n",
              "       [4],\n",
              "       [5]])"
            ]
          },
          "metadata": {},
          "execution_count": 20
        }
      ]
    },
    {
      "cell_type": "code",
      "source": [
        "# Squeeze dimensions\n",
        "squeezed_arr = np.squeeze(expanded_arr)\n",
        "squeezed_arr"
      ],
      "metadata": {
        "colab": {
          "base_uri": "https://localhost:8080/"
        },
        "id": "wOOYKajWcX9i",
        "outputId": "8a0c6dd5-50ae-47a9-d781-c413b03c7b64"
      },
      "execution_count": 21,
      "outputs": [
        {
          "output_type": "execute_result",
          "data": {
            "text/plain": [
              "array([1, 2, 3, 4, 5])"
            ]
          },
          "metadata": {},
          "execution_count": 21
        }
      ]
    },
    {
      "cell_type": "markdown",
      "source": [
        "# **3. Array Operations**"
      ],
      "metadata": {
        "id": "y0wl-LgBdcev"
      }
    },
    {
      "cell_type": "code",
      "source": [
        "# Element-wise addition\n",
        "add_arr = np.add(arr, arr)\n",
        "add_arr"
      ],
      "metadata": {
        "colab": {
          "base_uri": "https://localhost:8080/"
        },
        "id": "yPAgAa3jdniE",
        "outputId": "20ee471b-7474-4cf1-cb38-8927e995c4dc"
      },
      "execution_count": 22,
      "outputs": [
        {
          "output_type": "execute_result",
          "data": {
            "text/plain": [
              "array([ 2,  4,  6,  8, 10])"
            ]
          },
          "metadata": {},
          "execution_count": 22
        }
      ]
    },
    {
      "cell_type": "code",
      "source": [
        "# Element-wise subtraction\n",
        "sub_arr = np.subtract(arr, arr)\n",
        "sub_arr"
      ],
      "metadata": {
        "colab": {
          "base_uri": "https://localhost:8080/"
        },
        "id": "x64uSX-SdsFM",
        "outputId": "6f8654d3-d7d2-4038-f321-7e1d56911520"
      },
      "execution_count": 23,
      "outputs": [
        {
          "output_type": "execute_result",
          "data": {
            "text/plain": [
              "array([0, 0, 0, 0, 0])"
            ]
          },
          "metadata": {},
          "execution_count": 23
        }
      ]
    },
    {
      "cell_type": "code",
      "source": [
        "# Element-wise multiplication\n",
        "mul_arr = np.multiply(arr, arr)\n",
        "mul_arr"
      ],
      "metadata": {
        "colab": {
          "base_uri": "https://localhost:8080/"
        },
        "id": "OmjgHPRbdukw",
        "outputId": "e1410666-6cbb-491e-f64b-533cb03e746f"
      },
      "execution_count": 24,
      "outputs": [
        {
          "output_type": "execute_result",
          "data": {
            "text/plain": [
              "array([ 1,  4,  9, 16, 25])"
            ]
          },
          "metadata": {},
          "execution_count": 24
        }
      ]
    },
    {
      "cell_type": "code",
      "source": [
        "# Element-wise division\n",
        "div_arr = np.divide(arr, arr)\n",
        "div_arr"
      ],
      "metadata": {
        "colab": {
          "base_uri": "https://localhost:8080/"
        },
        "id": "FIBDtYX6dzCB",
        "outputId": "9d0dee4e-900e-4b8b-9b1d-306f523287d9"
      },
      "execution_count": 25,
      "outputs": [
        {
          "output_type": "execute_result",
          "data": {
            "text/plain": [
              "array([1., 1., 1., 1., 1.])"
            ]
          },
          "metadata": {},
          "execution_count": 25
        }
      ]
    },
    {
      "cell_type": "code",
      "source": [
        "# Dot product of two arrays\n",
        "dot_product = np.dot(arr, arr)\n",
        "dot_product"
      ],
      "metadata": {
        "colab": {
          "base_uri": "https://localhost:8080/"
        },
        "id": "vMuKRDwHd5qp",
        "outputId": "c785157c-5e9e-488d-90bb-cc9a7e4ecf7f"
      },
      "execution_count": 26,
      "outputs": [
        {
          "output_type": "execute_result",
          "data": {
            "text/plain": [
              "55"
            ]
          },
          "metadata": {},
          "execution_count": 26
        }
      ]
    },
    {
      "cell_type": "code",
      "source": [
        "# Compute the mean of array elements\n",
        "mean_value = np.mean(arr)\n",
        "mean_value"
      ],
      "metadata": {
        "colab": {
          "base_uri": "https://localhost:8080/"
        },
        "id": "DeOAiT1vd9-T",
        "outputId": "0afd66c2-109c-4ac5-fab2-9aa06e24c072"
      },
      "execution_count": 27,
      "outputs": [
        {
          "output_type": "execute_result",
          "data": {
            "text/plain": [
              "3.0"
            ]
          },
          "metadata": {},
          "execution_count": 27
        }
      ]
    },
    {
      "cell_type": "code",
      "source": [
        "# Compute the sum of array elements\n",
        "sum_value = np.sum(arr)\n",
        "sum_value"
      ],
      "metadata": {
        "colab": {
          "base_uri": "https://localhost:8080/"
        },
        "id": "vCJz73rgeBgw",
        "outputId": "d22fc56a-af5e-4ae8-d3e7-6b4ac85137f4"
      },
      "execution_count": 28,
      "outputs": [
        {
          "output_type": "execute_result",
          "data": {
            "text/plain": [
              "15"
            ]
          },
          "metadata": {},
          "execution_count": 28
        }
      ]
    },
    {
      "cell_type": "code",
      "source": [
        "# Compute the minimum of array elements\n",
        "min_value = np.min(arr)\n",
        "min_value"
      ],
      "metadata": {
        "colab": {
          "base_uri": "https://localhost:8080/"
        },
        "id": "7nk53qcDeISa",
        "outputId": "c26240e3-c4a0-4b0f-bec6-d1bbfbac5d0d"
      },
      "execution_count": 29,
      "outputs": [
        {
          "output_type": "execute_result",
          "data": {
            "text/plain": [
              "1"
            ]
          },
          "metadata": {},
          "execution_count": 29
        }
      ]
    },
    {
      "cell_type": "code",
      "source": [
        "# Sort the array elements\n",
        "sorted_arr = np.sort(arr)\n",
        "sorted_arr"
      ],
      "metadata": {
        "colab": {
          "base_uri": "https://localhost:8080/"
        },
        "id": "sgDpmQ85dP53",
        "outputId": "c67e7329-fe54-481b-e740-8802ec34e186"
      },
      "execution_count": 30,
      "outputs": [
        {
          "output_type": "execute_result",
          "data": {
            "text/plain": [
              "array([1, 2, 3, 4, 5])"
            ]
          },
          "metadata": {},
          "execution_count": 30
        }
      ]
    },
    {
      "cell_type": "markdown",
      "source": [
        "# **4. Linear Algebra**"
      ],
      "metadata": {
        "id": "__opHDtWeTcR"
      }
    },
    {
      "cell_type": "code",
      "source": [
        "# Inverse of a matrix\n",
        "matrix = np.array([[1, 2], [3, 4]])\n",
        "inverse_matrix = np.linalg.inv(matrix)\n",
        "inverse_matrix"
      ],
      "metadata": {
        "colab": {
          "base_uri": "https://localhost:8080/"
        },
        "id": "qiXMFJ0ReePF",
        "outputId": "9c2c926b-09e4-4109-f7ba-b09ff34d5e28"
      },
      "execution_count": 32,
      "outputs": [
        {
          "output_type": "execute_result",
          "data": {
            "text/plain": [
              "array([[-2. ,  1. ],\n",
              "       [ 1.5, -0.5]])"
            ]
          },
          "metadata": {},
          "execution_count": 32
        }
      ]
    },
    {
      "cell_type": "code",
      "source": [
        "# Determinant of a matrix\n",
        "determinant = np.linalg.det(matrix)\n",
        "determinant"
      ],
      "metadata": {
        "colab": {
          "base_uri": "https://localhost:8080/"
        },
        "id": "NDmLpycqehSc",
        "outputId": "0aa65992-d9eb-4f42-87a9-1ab2a53b723e"
      },
      "execution_count": 33,
      "outputs": [
        {
          "output_type": "execute_result",
          "data": {
            "text/plain": [
              "-2.0000000000000004"
            ]
          },
          "metadata": {},
          "execution_count": 33
        }
      ]
    },
    {
      "cell_type": "code",
      "source": [
        "# Eigenvalues and eigenvectors of a matrix\n",
        "eigenvalues, eigenvectors = np.linalg.eig(matrix)\n",
        "print(eigenvalues)\n",
        "print(eigenvectors)"
      ],
      "metadata": {
        "colab": {
          "base_uri": "https://localhost:8080/"
        },
        "id": "a33YBiVcelNT",
        "outputId": "df2af99b-857f-42a5-9341-dda36bdb545d"
      },
      "execution_count": 36,
      "outputs": [
        {
          "output_type": "stream",
          "name": "stdout",
          "text": [
            "[-0.37228132  5.37228132]\n",
            "[[-0.82456484 -0.41597356]\n",
            " [ 0.56576746 -0.90937671]]\n"
          ]
        }
      ]
    },
    {
      "cell_type": "code",
      "source": [
        "# Solve a linear matrix equation\n",
        "solution = np.linalg.solve(matrix, np.array([1, 2]))\n",
        "solution"
      ],
      "metadata": {
        "colab": {
          "base_uri": "https://localhost:8080/"
        },
        "id": "P-BRV2wOeN-D",
        "outputId": "25082a3f-3673-400f-ebf9-a21f053c5251"
      },
      "execution_count": 37,
      "outputs": [
        {
          "output_type": "execute_result",
          "data": {
            "text/plain": [
              "array([0. , 0.5])"
            ]
          },
          "metadata": {},
          "execution_count": 37
        }
      ]
    },
    {
      "cell_type": "markdown",
      "source": [
        "# **5. Fourier Transform**"
      ],
      "metadata": {
        "id": "utF-CFlNe7i0"
      }
    },
    {
      "cell_type": "code",
      "source": [
        "# One-dimensional discrete Fourier Transform\n",
        "fft_result = np.fft.fft(arr)\n",
        "fft_result"
      ],
      "metadata": {
        "colab": {
          "base_uri": "https://localhost:8080/"
        },
        "id": "We4VdIk7fO5A",
        "outputId": "f8fca040-5004-428d-e917-f24fb3810028"
      },
      "execution_count": 39,
      "outputs": [
        {
          "output_type": "execute_result",
          "data": {
            "text/plain": [
              "array([15. +0.j        , -2.5+3.4409548j , -2.5+0.81229924j,\n",
              "       -2.5-0.81229924j, -2.5-3.4409548j ])"
            ]
          },
          "metadata": {},
          "execution_count": 39
        }
      ]
    },
    {
      "cell_type": "code",
      "source": [
        "# Inverse discrete Fourier Transform\n",
        "ifft_result = np.fft.ifft(fft_result)\n",
        "ifft_result"
      ],
      "metadata": {
        "colab": {
          "base_uri": "https://localhost:8080/"
        },
        "id": "tdnVVhg0e3ZC",
        "outputId": "b1e8afbc-8a1f-4095-d5f4-2dca09342c34"
      },
      "execution_count": 40,
      "outputs": [
        {
          "output_type": "execute_result",
          "data": {
            "text/plain": [
              "array([1.+0.j, 2.+0.j, 3.+0.j, 4.+0.j, 5.+0.j])"
            ]
          },
          "metadata": {},
          "execution_count": 40
        }
      ]
    },
    {
      "cell_type": "markdown",
      "source": [
        "# **6. Random Number Generation**"
      ],
      "metadata": {
        "id": "VAplXtKVfbNZ"
      }
    },
    {
      "cell_type": "code",
      "source": [
        "# Generate random floats\n",
        "random_floats = np.random.random((2, 2))\n",
        "random_floats"
      ],
      "metadata": {
        "colab": {
          "base_uri": "https://localhost:8080/"
        },
        "id": "tY34jYMofkDY",
        "outputId": "891cd469-d51f-4d09-f921-8132a9843c0c"
      },
      "execution_count": 42,
      "outputs": [
        {
          "output_type": "execute_result",
          "data": {
            "text/plain": [
              "array([[0.50431659, 0.47354234],\n",
              "       [0.13086532, 0.56782472]])"
            ]
          },
          "metadata": {},
          "execution_count": 42
        }
      ]
    },
    {
      "cell_type": "code",
      "source": [
        "# Generate random integers\n",
        "random_integers = np.random.randint(0, 10, (2, 2))\n",
        "random_integers"
      ],
      "metadata": {
        "colab": {
          "base_uri": "https://localhost:8080/"
        },
        "id": "uYBf4y6dfonM",
        "outputId": "0f76caf5-4ceb-423c-fe5c-c3229a01f611"
      },
      "execution_count": 43,
      "outputs": [
        {
          "output_type": "execute_result",
          "data": {
            "text/plain": [
              "array([[2, 1],\n",
              "       [1, 6]])"
            ]
          },
          "metadata": {},
          "execution_count": 43
        }
      ]
    },
    {
      "cell_type": "code",
      "source": [
        "# Generate random integers\n",
        "random_integers = np.random.randint(0, 10, (2, 2))\n",
        "random_integers"
      ],
      "metadata": {
        "colab": {
          "base_uri": "https://localhost:8080/"
        },
        "id": "nO_mBAZbfsZE",
        "outputId": "466c4f34-cdef-4937-d9ec-ca4a2679d78c"
      },
      "execution_count": 44,
      "outputs": [
        {
          "output_type": "execute_result",
          "data": {
            "text/plain": [
              "array([[9, 9],\n",
              "       [6, 3]])"
            ]
          },
          "metadata": {},
          "execution_count": 44
        }
      ]
    },
    {
      "cell_type": "markdown",
      "source": [
        "# **7. Statistics and Probability**"
      ],
      "metadata": {
        "id": "YNU1ljaUf5T3"
      }
    },
    {
      "cell_type": "code",
      "source": [
        "# Compute the median\n",
        "median_value = np.median(arr)\n",
        "median_value"
      ],
      "metadata": {
        "colab": {
          "base_uri": "https://localhost:8080/"
        },
        "id": "W4xsV50mf9fx",
        "outputId": "c02b482d-a59d-4def-89f7-e5226235235c"
      },
      "execution_count": 45,
      "outputs": [
        {
          "output_type": "execute_result",
          "data": {
            "text/plain": [
              "3.0"
            ]
          },
          "metadata": {},
          "execution_count": 45
        }
      ]
    },
    {
      "cell_type": "code",
      "source": [
        "# Compute the standard deviation\n",
        "std_dev = np.std(arr)\n",
        "std_dev"
      ],
      "metadata": {
        "colab": {
          "base_uri": "https://localhost:8080/"
        },
        "id": "nh6pTUcwgDtR",
        "outputId": "a493c21d-5276-44ea-d524-6ea378d175cc"
      },
      "execution_count": 46,
      "outputs": [
        {
          "output_type": "execute_result",
          "data": {
            "text/plain": [
              "1.4142135623730951"
            ]
          },
          "metadata": {},
          "execution_count": 46
        }
      ]
    },
    {
      "cell_type": "code",
      "source": [
        "# Compute the variance\n",
        "variance = np.var(arr)\n",
        "variance"
      ],
      "metadata": {
        "colab": {
          "base_uri": "https://localhost:8080/"
        },
        "id": "PiDGTYRFgGG_",
        "outputId": "ab1f9d19-35ac-4ce0-d34b-ab1d682a55d4"
      },
      "execution_count": 47,
      "outputs": [
        {
          "output_type": "execute_result",
          "data": {
            "text/plain": [
              "2.0"
            ]
          },
          "metadata": {},
          "execution_count": 47
        }
      ]
    },
    {
      "cell_type": "code",
      "source": [
        "# Generate a histogram of data\n",
        "hist, bin_edges = np.histogram(arr)\n",
        "print(hist)\n",
        "print(bin_edges)"
      ],
      "metadata": {
        "colab": {
          "base_uri": "https://localhost:8080/"
        },
        "id": "xhQSOR_Ffx2n",
        "outputId": "18e415c1-0c76-4768-d66f-d091233086d5"
      },
      "execution_count": 50,
      "outputs": [
        {
          "output_type": "execute_result",
          "data": {
            "text/plain": [
              "array([1, 0, 1, 0, 0, 1, 0, 1, 0, 1])"
            ]
          },
          "metadata": {},
          "execution_count": 50
        }
      ]
    },
    {
      "cell_type": "markdown",
      "source": [
        "# **8. Trigonometric Functions**"
      ],
      "metadata": {
        "id": "P5u2ZO17gaqP"
      }
    },
    {
      "cell_type": "code",
      "source": [
        "# Compute the sine\n",
        "sine_values = np.sin(arr)\n",
        "sine_values"
      ],
      "metadata": {
        "colab": {
          "base_uri": "https://localhost:8080/"
        },
        "id": "LdaFcgruhwYn",
        "outputId": "cfb2d8c0-cb73-496e-8d0b-7822ab35629a"
      },
      "execution_count": 60,
      "outputs": [
        {
          "output_type": "execute_result",
          "data": {
            "text/plain": [
              "array([ 0.84147098,  0.90929743,  0.14112001, -0.7568025 , -0.95892427])"
            ]
          },
          "metadata": {},
          "execution_count": 60
        }
      ]
    },
    {
      "cell_type": "code",
      "source": [
        "# Compute the cosine\n",
        "cosine_values = np.cos(arr)\n",
        "cosine_values"
      ],
      "metadata": {
        "colab": {
          "base_uri": "https://localhost:8080/"
        },
        "id": "V7wsiS4ohzKI",
        "outputId": "71018092-5cf2-480a-bfd1-9721007af6c3"
      },
      "execution_count": 61,
      "outputs": [
        {
          "output_type": "execute_result",
          "data": {
            "text/plain": [
              "array([ 0.54030231, -0.41614684, -0.9899925 , -0.65364362,  0.28366219])"
            ]
          },
          "metadata": {},
          "execution_count": 61
        }
      ]
    },
    {
      "cell_type": "code",
      "source": [
        "# Compute the tangent\n",
        "tangent_values = np.tan(arr)\n",
        "tangent_values"
      ],
      "metadata": {
        "colab": {
          "base_uri": "https://localhost:8080/"
        },
        "id": "1MG9Qk7Yht0n",
        "outputId": "c7b5242c-3d17-4c0e-d486-8f04b0c70074"
      },
      "execution_count": 62,
      "outputs": [
        {
          "output_type": "execute_result",
          "data": {
            "text/plain": [
              "array([ 1.55740772, -2.18503986, -0.14254654,  1.15782128, -3.38051501])"
            ]
          },
          "metadata": {},
          "execution_count": 62
        }
      ]
    },
    {
      "cell_type": "markdown",
      "source": [
        "# **9. Exponential and Logarithmic Functions**"
      ],
      "metadata": {
        "id": "WtCmeEdUgc-Z"
      }
    },
    {
      "cell_type": "code",
      "source": [
        "# Compute the exponential\n",
        "exp_values = np.exp(arr)\n",
        "exp_values"
      ],
      "metadata": {
        "colab": {
          "base_uri": "https://localhost:8080/"
        },
        "id": "AtHCeR4Jhl4x",
        "outputId": "7b3a387c-2056-4c12-9a1d-1964175c1213"
      },
      "execution_count": 57,
      "outputs": [
        {
          "output_type": "execute_result",
          "data": {
            "text/plain": [
              "array([  2.71828183,   7.3890561 ,  20.08553692,  54.59815003,\n",
              "       148.4131591 ])"
            ]
          },
          "metadata": {},
          "execution_count": 57
        }
      ]
    },
    {
      "cell_type": "code",
      "source": [
        "# Compute the natural logarithm\n",
        "log_values = np.log(arr)\n",
        "log_values"
      ],
      "metadata": {
        "colab": {
          "base_uri": "https://localhost:8080/"
        },
        "id": "048GjtoVhn-s",
        "outputId": "22b21fb5-bd24-4272-b294-19d9b914465e"
      },
      "execution_count": 58,
      "outputs": [
        {
          "output_type": "execute_result",
          "data": {
            "text/plain": [
              "array([0.        , 0.69314718, 1.09861229, 1.38629436, 1.60943791])"
            ]
          },
          "metadata": {},
          "execution_count": 58
        }
      ]
    },
    {
      "cell_type": "code",
      "source": [
        "# Compute the base-10 logarithm\n",
        "log10_values = np.log10(arr)\n",
        "log10_values"
      ],
      "metadata": {
        "colab": {
          "base_uri": "https://localhost:8080/"
        },
        "id": "Kn52LdPGhksI",
        "outputId": "183c6666-0620-47d2-af56-ba53d9d92288"
      },
      "execution_count": 59,
      "outputs": [
        {
          "output_type": "execute_result",
          "data": {
            "text/plain": [
              "array([0.        , 0.30103   , 0.47712125, 0.60205999, 0.69897   ])"
            ]
          },
          "metadata": {},
          "execution_count": 59
        }
      ]
    },
    {
      "cell_type": "markdown",
      "source": [
        "# **10. Miscellaneous**"
      ],
      "metadata": {
        "id": "kLkJ1aP8gnZp"
      }
    },
    {
      "cell_type": "code",
      "source": [
        "# Copy an array\n",
        "copied_arr = np.copy(arr)\n",
        "copied_arr"
      ],
      "metadata": {
        "colab": {
          "base_uri": "https://localhost:8080/"
        },
        "id": "sCdlSXqJhVLU",
        "outputId": "744b70ce-e5d8-40cc-caa0-4f6cc77eb36b"
      },
      "execution_count": 54,
      "outputs": [
        {
          "output_type": "execute_result",
          "data": {
            "text/plain": [
              "array([1, 2, 3, 4, 5])"
            ]
          },
          "metadata": {},
          "execution_count": 54
        }
      ]
    },
    {
      "cell_type": "code",
      "source": [
        "# Find the unique elements of an array\n",
        "unique_elements = np.unique(arr)\n",
        "unique_elements"
      ],
      "metadata": {
        "colab": {
          "base_uri": "https://localhost:8080/"
        },
        "id": "IFZ136hGhXlK",
        "outputId": "40eb5fd7-692c-495e-fe21-bf5a5eea4528"
      },
      "execution_count": 55,
      "outputs": [
        {
          "output_type": "execute_result",
          "data": {
            "text/plain": [
              "array([1, 2, 3, 4, 5])"
            ]
          },
          "metadata": {},
          "execution_count": 55
        }
      ]
    },
    {
      "cell_type": "code",
      "source": [
        "# Test for NaN values\n",
        "nan_check = np.isnan(arr)\n",
        "nan_check"
      ],
      "metadata": {
        "colab": {
          "base_uri": "https://localhost:8080/"
        },
        "id": "D36YS_TGhT5H",
        "outputId": "497ece79-76de-427c-fd5f-dce30c9fc199"
      },
      "execution_count": 56,
      "outputs": [
        {
          "output_type": "execute_result",
          "data": {
            "text/plain": [
              "array([False, False, False, False, False])"
            ]
          },
          "metadata": {},
          "execution_count": 56
        }
      ]
    },
    {
      "cell_type": "markdown",
      "source": [
        "# **11. Input/Output**"
      ],
      "metadata": {
        "id": "fVSveZGrgnTB"
      }
    },
    {
      "cell_type": "code",
      "source": [
        "# Save an array to a text file\n",
        "np.savetxt('array.txt', arr)"
      ],
      "metadata": {
        "id": "urbkyk4ThLA3"
      },
      "execution_count": 52,
      "outputs": []
    },
    {
      "cell_type": "code",
      "source": [
        "# Load data from a text file\n",
        "loaded_arr = np.loadtxt('array.txt')\n",
        "loaded_arr"
      ],
      "metadata": {
        "colab": {
          "base_uri": "https://localhost:8080/"
        },
        "id": "X-czEf-ghJvv",
        "outputId": "198a576b-3bf7-45a6-b73f-982909f7f6fc"
      },
      "execution_count": 53,
      "outputs": [
        {
          "output_type": "execute_result",
          "data": {
            "text/plain": [
              "array([1., 2., 3., 4., 5.])"
            ]
          },
          "metadata": {},
          "execution_count": 53
        }
      ]
    },
    {
      "cell_type": "markdown",
      "source": [
        "# **12. Date and Time Functions**"
      ],
      "metadata": {
        "id": "s8NgdGVpg0E_"
      }
    },
    {
      "cell_type": "code",
      "source": [
        "# Create datetime arrays\n",
        "dates = np.array(['2021-01-01', '2022-01-01'], dtype='datetime64')\n",
        "dates"
      ],
      "metadata": {
        "colab": {
          "base_uri": "https://localhost:8080/"
        },
        "id": "MeqnEgzTgLz4",
        "outputId": "b62ab446-7021-4437-ecc5-46bb55f9980d"
      },
      "execution_count": 51,
      "outputs": [
        {
          "output_type": "execute_result",
          "data": {
            "text/plain": [
              "array(['2021-01-01', '2022-01-01'], dtype='datetime64[D]')"
            ]
          },
          "metadata": {},
          "execution_count": 51
        }
      ]
    }
  ]
}